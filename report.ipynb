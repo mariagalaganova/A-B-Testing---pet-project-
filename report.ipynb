{
 "cells": [
  {
   "cell_type": "markdown",
   "metadata": {},
   "source": [
    "# Коллеги, добрый день!\n",
    "\n",
    "Предлагаю вам ознакомиться с отчетом по A/B-тестированию новой механики оплаты услуг на сайте.  \n",
    "Внутри отчета подсветим следующие вопросы:\n",
    "\n",
    "#### * На какие метрики опиралось исследование и почему?  \n",
    "#### * Имеются ли различия в показателях и с чем они могут быть связаны?  \n",
    "#### * Являются ли эти различия статистически значимыми?  \n",
    "#### * Стоит ли запускать новую механику на всех пользователей?  \n",
    "\n"
   ]
  },
  {
   "cell_type": "markdown",
   "metadata": {},
   "source": [
    "### Этап 1 - подготовительный\n",
    "Датасеты были загружены и переименованы согласно имени из задания предворительно  \n",
    "Далее загружаем необхдмые нам библиотеки для анализа данных:"
   ]
  },
  {
   "cell_type": "code",
   "execution_count": 2,
   "metadata": {},
   "outputs": [],
   "source": [
    "import pandas as pd # Анализ и манипуляции с табличными данными (DataFrame)\n",
    "\n",
    "import numpy as np  # Численные операции, работа с массивами и линейной алгеброй\n",
    "\n",
    "from tqdm.auto import tqdm # Индикатор прогресса для циклов (визуализация выполнения)\n",
    "\n",
    "import seaborn as sns   # Визуализация данных (удобные графики поверх matplotlib)\n",
    "\n",
    "import matplotlib.pyplot as plt  # Построение графиков (низкоуровневая библиотека)\n",
    "\n",
    "from matplotlib_venn import venn3, venn3_circles #  для диаграммы Венна\n",
    "\n",
    "from scipy.stats import norm   # Статистические функции (нормальное распределение и тесты)\n",
    "\n",
    "import re #  Регулярные выражения для работы с текстом\n",
    "\n",
    "import random # Для генерации таблицы из 3 задания\n",
    "\n",
    "from scipy.stats import shapiro # для проверки нормальности по итогам первого ревью \n",
    "\n",
    "import statistics\n"
   ]
  },
  {
   "cell_type": "markdown",
   "metadata": {},
   "source": [
    "Теперь ознакомимся с таблицами: обратим вимание на структуру данных и получим базовую информацию о таблице. \n",
    "На что обращаем внимание?  \n",
    "- Наличие столбцов и их названия  \n",
    "- Примеры значений  \n",
    "- Типы данных в каждом столбце\n",
    "- Пропуски\n",
    "- Уникальные значения\n",
    "\n"
   ]
  },
  {
   "cell_type": "markdown",
   "metadata": {},
   "source": [
    "Таблица groups.csv – файл с информацией о принадлежности пользователя к контрольной или экспериментальной группе (А – контроль, B – целевая группа) "
   ]
  },
  {
   "cell_type": "code",
   "execution_count": 3,
   "metadata": {},
   "outputs": [
    {
     "name": "stdout",
     "output_type": "stream",
     "text": [
      "     id grp\n",
      "0  1489   B\n",
      "1  1627   A\n",
      "2  1768   B\n",
      "3  1783   B\n",
      "4  1794   A \n",
      "\n",
      "<class 'pandas.core.frame.DataFrame'>\n",
      "RangeIndex: 74484 entries, 0 to 74483\n",
      "Data columns (total 2 columns):\n",
      " #   Column  Non-Null Count  Dtype \n",
      "---  ------  --------------  ----- \n",
      " 0   id      74484 non-null  int64 \n",
      " 1   grp     74484 non-null  object\n",
      "dtypes: int64(1), object(1)\n",
      "memory usage: 1.1+ MB\n",
      "None \n",
      "\n",
      "Уникальных ID в датасете: 74484\n"
     ]
    }
   ],
   "source": [
    "groups = pd.read_csv('groups.csv', sep=';')\n",
    "print(groups.head(), '\\n')\n",
    "print(groups.info(), '\\n')\n",
    "print('Уникальных ID в датасете:', groups.id.nunique())"
   ]
  },
  {
   "cell_type": "markdown",
   "metadata": {},
   "source": [
    "Таблица groups_add.csv – дополнительный файл с пользователями, который вам прислали спустя 2 дня после передачи данных"
   ]
  },
  {
   "cell_type": "code",
   "execution_count": 4,
   "metadata": {},
   "outputs": [
    {
     "name": "stdout",
     "output_type": "stream",
     "text": [
      "        id grp\n",
      "0  5694584   B\n",
      "1  5694830   B\n",
      "2  5695057   B\n",
      "3  5698872   B\n",
      "4  5699067   B \n",
      "\n",
      "<class 'pandas.core.frame.DataFrame'>\n",
      "RangeIndex: 92 entries, 0 to 91\n",
      "Data columns (total 2 columns):\n",
      " #   Column  Non-Null Count  Dtype \n",
      "---  ------  --------------  ----- \n",
      " 0   id      92 non-null     int64 \n",
      " 1   grp     92 non-null     object\n",
      "dtypes: int64(1), object(1)\n",
      "memory usage: 1.6+ KB\n",
      "None \n",
      "\n",
      "Уникальных ID в датасете: 92\n"
     ]
    }
   ],
   "source": [
    "groups_add = pd.read_csv('groups_add.csv', sep=',')\n",
    "print(groups_add.head(), '\\n')\n",
    "print(groups_add.info(), '\\n')\n",
    "print('Уникальных ID в датасете:', groups_add.id.nunique())"
   ]
  },
  {
   "cell_type": "markdown",
   "metadata": {},
   "source": [
    "Таблица active_studs.csv – файл с информацией о пользователях, которые зашли на платформу в дни проведения эксперимента"
   ]
  },
  {
   "cell_type": "code",
   "execution_count": 5,
   "metadata": {},
   "outputs": [
    {
     "name": "stdout",
     "output_type": "stream",
     "text": [
      "   student_id\n",
      "0      581585\n",
      "1     5723133\n",
      "2     3276743\n",
      "3     4238589\n",
      "4     4475369 \n",
      "\n",
      "<class 'pandas.core.frame.DataFrame'>\n",
      "RangeIndex: 8341 entries, 0 to 8340\n",
      "Data columns (total 1 columns):\n",
      " #   Column      Non-Null Count  Dtype\n",
      "---  ------      --------------  -----\n",
      " 0   student_id  8341 non-null   int64\n",
      "dtypes: int64(1)\n",
      "memory usage: 65.3 KB\n",
      "None \n",
      "\n",
      "Уникальных student_id в датасете: 8341\n"
     ]
    }
   ],
   "source": [
    "active_studs = pd.read_csv('active_studs.csv', sep=';')\n",
    "print(active_studs.head(), '\\n')\n",
    "print(active_studs.info(), '\\n')\n",
    "print('Уникальных student_id в датасете:', active_studs.student_id.nunique())"
   ]
  },
  {
   "cell_type": "markdown",
   "metadata": {},
   "source": [
    "Таблица checks.csv – файл с информацией об оплатах пользователей в дни проведения эксперимента"
   ]
  },
  {
   "cell_type": "code",
   "execution_count": 6,
   "metadata": {},
   "outputs": [
    {
     "name": "stdout",
     "output_type": "stream",
     "text": [
      "   student_id    rev\n",
      "0        1627  990.0\n",
      "1        3185  690.0\n",
      "2       25973  690.0\n",
      "3       26280  690.0\n",
      "4      100300  990.0 \n",
      "\n",
      "<class 'pandas.core.frame.DataFrame'>\n",
      "RangeIndex: 541 entries, 0 to 540\n",
      "Data columns (total 2 columns):\n",
      " #   Column      Non-Null Count  Dtype  \n",
      "---  ------      --------------  -----  \n",
      " 0   student_id  541 non-null    int64  \n",
      " 1   rev         541 non-null    float64\n",
      "dtypes: float64(1), int64(1)\n",
      "memory usage: 8.6 KB\n",
      "None \n",
      "\n",
      "Уникальных student_id в датасете: 541\n"
     ]
    }
   ],
   "source": [
    "checks = pd.read_csv('checks.csv', sep=';')\n",
    "print(checks.head(), '\\n')\n",
    "print(checks.info(), '\\n')\n",
    "print('Уникальных student_id в датасете:', checks.student_id.nunique())"
   ]
  },
  {
   "cell_type": "markdown",
   "metadata": {},
   "source": [
    "Теперь соединим groups и groups_add, так как они являются общей базой пользователей для эксперемента  \n",
    "Назавем новый датафрейм groups_total и посмотрим на него:"
   ]
  },
  {
   "cell_type": "code",
   "execution_count": 7,
   "metadata": {},
   "outputs": [
    {
     "name": "stdout",
     "output_type": "stream",
     "text": [
      "     id grp\n",
      "0  1489   B\n",
      "1  1627   A\n",
      "2  1768   B\n",
      "3  1783   B\n",
      "4  1794   A \n",
      "\n",
      "<class 'pandas.core.frame.DataFrame'>\n",
      "Int64Index: 74576 entries, 0 to 91\n",
      "Data columns (total 2 columns):\n",
      " #   Column  Non-Null Count  Dtype \n",
      "---  ------  --------------  ----- \n",
      " 0   id      74576 non-null  int64 \n",
      " 1   grp     74576 non-null  object\n",
      "dtypes: int64(1), object(1)\n",
      "memory usage: 1.7+ MB\n",
      "None \n",
      "\n",
      "Уникальных ID в датасете: 74576\n"
     ]
    }
   ],
   "source": [
    "groups_total = pd.concat([groups, groups_add])\n",
    "print(groups_total.head(), '\\n')\n",
    "print(groups_total.info(), '\\n')\n",
    "print('Уникальных ID в датасете:', groups_total.id.nunique())\n"
   ]
  },
  {
   "cell_type": "markdown",
   "metadata": {},
   "source": [
    "Посомтрим, как пользователи поделены по группам:"
   ]
  },
  {
   "cell_type": "code",
   "execution_count": 8,
   "metadata": {},
   "outputs": [
    {
     "name": "stdout",
     "output_type": "stream",
     "text": [
      "Распределение пользователей:\n",
      "B    59883\n",
      "A    14693\n",
      "Name: grp, dtype: int64\n",
      "Процентное соотношение пользователей:\n",
      "B    80.3%\n",
      "A    19.7%\n",
      "Name: grp, dtype: object\n"
     ]
    }
   ],
   "source": [
    "print(\"Распределение пользователей:\")\n",
    "print(groups_total['grp'].value_counts())\n",
    "counts = groups_total['grp'].value_counts(normalize=True) * 100\n",
    "print(\"Процентное соотношение пользователей:\")\n",
    "print(counts.round(2).astype(str) + '%')"
   ]
  },
  {
   "cell_type": "markdown",
   "metadata": {},
   "source": [
    "Теперь необходмо проверить, есть ли в датафреймах пользователи, которые попали туда случайно:\n",
    "- Студенты, которые оплатили обучение, но не попали в список активных во время тестирования - например, если оплата прошла автоматически\n",
    "- Студенты, которые оплатили обучение, но не попали в общий список groups_total\n",
    "- Студенты, которые были активны, но не попали в общий список groups_total"
   ]
  },
  {
   "cell_type": "code",
   "execution_count": 9,
   "metadata": {},
   "outputs": [
    {
     "name": "stdout",
     "output_type": "stream",
     "text": [
      "\n",
      "Студенты, которые оплатили обучение, но не попали в список активных во время тестирования: 149\n",
      "Студенты, которые оплатили обучение, но не попали в общий список groups_total: 0\n",
      "Количество пользователей из списка активных, но не вошедших в общий список: 0\n",
      "\n"
     ]
    }
   ],
   "source": [
    "paid_not_active = checks[~checks.student_id.isin(active_studs.student_id)]\n",
    "paid_not_in_total = checks[~checks.student_id.isin(groups_total.id)]\n",
    "active_not_in_total = active_studs[~active_studs.student_id.isin(groups_total.id)]\n",
    "\n",
    "print(f'''\n",
    "Студенты, которые оплатили обучение, но не попали в список активных во время тестирования: {len(paid_not_active)}\n",
    "Студенты, которые оплатили обучение, но не попали в общий список groups_total: {len(paid_not_in_total)}\n",
    "Количество пользователей из списка активных, но не вошедших в общий список: {len(active_not_in_total)}\n",
    "''')"
   ]
  },
  {
   "cell_type": "markdown",
   "metadata": {},
   "source": [
    "Теперь проверим оплату по группам:"
   ]
  },
  {
   "cell_type": "code",
   "execution_count": 10,
   "metadata": {},
   "outputs": [
    {
     "name": "stdout",
     "output_type": "stream",
     "text": [
      "Распределение оплат по группам: \n",
      "Группа A: 107 \n",
      "Группа B: 434 \n",
      "Всего:   541\n"
     ]
    }
   ],
   "source": [
    "checks_in_groups = groups_total[groups_total['id'].isin(checks['student_id'])]\n",
    "\n",
    "group_counts = checks_in_groups['grp'].value_counts()\n",
    "\n",
    "print('Распределение оплат по группам:',\n",
    "      f'\\nГруппа A: {group_counts.get(\"A\", 0)}',\n",
    "      f'\\nГруппа B: {group_counts.get(\"B\", 0)}',\n",
    "      f'\\nВсего:   {group_counts.sum()}')"
   ]
  },
  {
   "cell_type": "markdown",
   "metadata": {},
   "source": [
    "Теперь проверим группу оплативших, но не попавших в тестирование(!= активные):"
   ]
  },
  {
   "cell_type": "code",
   "execution_count": 11,
   "metadata": {},
   "outputs": [
    {
     "name": "stdout",
     "output_type": "stream",
     "text": [
      "Оплатили, но не попали в тестрование: \n",
      "Группа A: 29 \n",
      "Группа B: 120 \n",
      "Всего:   149\n"
     ]
    }
   ],
   "source": [
    "paid_not_active_in_groups = groups_total[groups_total['id'].isin(paid_not_active['student_id'])]\n",
    "\n",
    "group_counts = paid_not_active_in_groups['grp'].value_counts()\n",
    "\n",
    "print('Оплатили, но не попали в тестрование:',\n",
    "      f'\\nГруппа A: {group_counts.get(\"A\", 0)}',\n",
    "      f'\\nГруппа B: {group_counts.get(\"B\", 0)}',\n",
    "      f'\\nВсего:   {group_counts.sum()}')"
   ]
  },
  {
   "cell_type": "markdown",
   "metadata": {},
   "source": [
    "Как по гуппам распредлены студенты, участвовавшие в тестировании (= активные)?"
   ]
  },
  {
   "cell_type": "code",
   "execution_count": 12,
   "metadata": {},
   "outputs": [
    {
     "name": "stdout",
     "output_type": "stream",
     "text": [
      "Распределение участвовавших в тестировании по группам: \n",
      "Группа A: 1538 \n",
      "Группа B: 6803 \n",
      "Всего:   8341\n"
     ]
    }
   ],
   "source": [
    "active_in_groups = groups_total[groups_total['id'].isin(active_studs['student_id'])]\n",
    "\n",
    "group_counts = active_in_groups['grp'].value_counts()\n",
    "\n",
    "print('Распределение участвовавших в тестировании по группам:',\n",
    "      f'\\nГруппа A: {group_counts.get(\"A\", 0)}',\n",
    "      f'\\nГруппа B: {group_counts.get(\"B\", 0)}',\n",
    "      f'\\nВсего:   {group_counts.sum()}')\n"
   ]
  },
  {
   "cell_type": "markdown",
   "metadata": {},
   "source": [
    "Как по гуппам распредлены студенты, участвовавшие в тестировании (= активные), которые совершили оплату?"
   ]
  },
  {
   "cell_type": "code",
   "execution_count": 13,
   "metadata": {},
   "outputs": [
    {
     "name": "stdout",
     "output_type": "stream",
     "text": [
      "Участвовавшие в тестировании оплатившие пользователи по группам: \n",
      "Группа A: 78 \n",
      "Группа B: 314 \n",
      "Всего:   392\n"
     ]
    }
   ],
   "source": [
    "active_paid_users = groups_total[\n",
    "    groups_total['id'].isin(active_studs['student_id']) & \n",
    "    groups_total['id'].isin(checks['student_id'])\n",
    "]\n",
    "\n",
    "group_counts = active_paid_users['grp'].value_counts()\n",
    "\n",
    "print('Участвовавшие в тестировании оплатившие пользователи по группам:',\n",
    "      f'\\nГруппа A: {group_counts.get(\"A\", 0)}',\n",
    "      f'\\nГруппа B: {group_counts.get(\"B\", 0)}',\n",
    "      f'\\nВсего:   {group_counts.sum()}')"
   ]
  },
  {
   "cell_type": "markdown",
   "metadata": {},
   "source": [
    "Сколько студентов участвовало в тестировании но не оплатило?"
   ]
  },
  {
   "cell_type": "code",
   "execution_count": 14,
   "metadata": {},
   "outputs": [
    {
     "name": "stdout",
     "output_type": "stream",
     "text": [
      "Участвовавшие в тестировании, но не оплатившие пользователи, количество по группам: \n",
      "Группа A: 1460 \n",
      "Группа B: 6489 \n",
      "Всего:   7949\n"
     ]
    }
   ],
   "source": [
    "active_not_paid = groups_total[\n",
    "    groups_total['id'].isin(active_studs['student_id']) & \n",
    "    ~groups_total['id'].isin(checks['student_id'])\n",
    "]\n",
    "\n",
    "group_counts = active_not_paid['grp'].value_counts()\n",
    "\n",
    "print('Участвовавшие в тестировании, но не оплатившие пользователи, количество по группам:',\n",
    "      f'\\nГруппа A: {group_counts.get(\"A\", 0)}',\n",
    "      f'\\nГруппа B: {group_counts.get(\"B\", 0)}',\n",
    "      f'\\nВсего:   {group_counts.sum()}')"
   ]
  },
  {
   "cell_type": "markdown",
   "metadata": {},
   "source": [
    "Из полученных данных можно составить диаграмму Венна - это наглядно покажет, каие группы пользователей есть и как они разбиты по группам "
   ]
  },
  {
   "cell_type": "code",
   "execution_count": 15,
   "metadata": {},
   "outputs": [
    {
     "data": {
      "image/png": "[encoded data removed]",
      "text/plain": [
       "<Figure size 1200x1000 with 1 Axes>"
      ]
     },
     "metadata": {},
     "output_type": "display_data"
    }
   ],
   "source": [
    "all_users = set(groups_total['id'])\n",
    "\n",
    "active_users = set(active_studs['student_id'])\n",
    "\n",
    "paid_users = set(checks['student_id'])\n",
    "\n",
    "plt.figure(figsize=(12, 10), dpi=100)\n",
    "\n",
    "\n",
    "v = venn3([active_users, paid_users, all_users], ('Активные пользователи: \\n Всего 8341 \\nA = 1538, B = 6803', 'Оплатившие: \\n Всего 541 \\n A = 107, B = 434', 'Все пользователи: \\n Всего 74576 \\n A = 14693, B = 59883'))\n",
    "\n",
    "for text in v.set_labels:\n",
    "    text.set_fontsize(14)\n",
    "\n",
    "plt.title(\"Распределение пользователей: активные, оплатившие и все пользователи\", \n",
    "          fontsize=16, pad=20)\n",
    "plt.tight_layout()\n",
    "plt.show()"
   ]
  },
  {
   "cell_type": "markdown",
   "metadata": {},
   "source": [
    "Из диаграммы наглядно видно, что:\n",
    "- поьзователей, который поучаствовали в тестировании (активных) немного относительно всех пользователей\n",
    "- участников тестирования значительно больше в группе В\n",
    "- оплативших пользователей, которые не участвовали в тестировании достаточно много. У нас нет данных о технических процессах в компании, так что мы не можем однозначно сказать, кто эти люди (как было написано выше, это может быть автоматическая оплата). Поскольку они не попали в категорию активных пользователей, мы будем считать, что они не участвовали в эксерименте"
   ]
  },
  {
   "cell_type": "markdown",
   "metadata": {},
   "source": [
    "### Вывод первого этапа:\n",
    "\n",
    "В дальнейшем анализе результатов тестирования будем смотреть 392 человека - студентов, одновременно оплативших и активных (серая часть окружности на диаграмме)\n",
    "\n"
   ]
  },
  {
   "cell_type": "markdown",
   "metadata": {},
   "source": [
    "### Этап 2 - Анализ выборки"
   ]
  },
  {
   "cell_type": "markdown",
   "metadata": {},
   "source": [
    "Для начала объеденим таблицу со всеми активными и оплатившими пользователями (розовая и серая области)\n",
    "Дополнительно на будущее переименуем колонку айди для краткости и удобства"
   ]
  },
  {
   "cell_type": "code",
   "execution_count": 16,
   "metadata": {},
   "outputs": [
    {
     "name": "stdout",
     "output_type": "stream",
     "text": [
      "<class 'pandas.core.frame.DataFrame'>\n",
      "Int64Index: 392 entries, 62 to 8339\n",
      "Data columns (total 2 columns):\n",
      " #   Column  Non-Null Count  Dtype  \n",
      "---  ------  --------------  -----  \n",
      " 0   id      392 non-null    int64  \n",
      " 1   rev     392 non-null    float64\n",
      "dtypes: float64(1), int64(1)\n",
      "memory usage: 9.2 KB\n"
     ]
    },
    {
     "data": {
      "text/html": [
       "<div>\n",
       "<style scoped>\n",
       "    .dataframe tbody tr th:only-of-type {\n",
       "        vertical-align: middle;\n",
       "    }\n",
       "\n",
       "    .dataframe tbody tr th {\n",
       "        vertical-align: top;\n",
       "    }\n",
       "\n",
       "    .dataframe thead th {\n",
       "        text-align: right;\n",
       "    }\n",
       "</style>\n",
       "<table border=\"1\" class=\"dataframe\">\n",
       "  <thead>\n",
       "    <tr style=\"text-align: right;\">\n",
       "      <th></th>\n",
       "      <th>id</th>\n",
       "      <th>rev</th>\n",
       "    </tr>\n",
       "  </thead>\n",
       "  <tbody>\n",
       "    <tr>\n",
       "      <th>62</th>\n",
       "      <td>1184303</td>\n",
       "      <td>1530.0000</td>\n",
       "    </tr>\n",
       "    <tr>\n",
       "      <th>67</th>\n",
       "      <td>3354191</td>\n",
       "      <td>1900.0001</td>\n",
       "    </tr>\n",
       "    <tr>\n",
       "      <th>77</th>\n",
       "      <td>3278734</td>\n",
       "      <td>1900.0000</td>\n",
       "    </tr>\n",
       "    <tr>\n",
       "      <th>99</th>\n",
       "      <td>720651</td>\n",
       "      <td>1980.0000</td>\n",
       "    </tr>\n",
       "    <tr>\n",
       "      <th>193</th>\n",
       "      <td>1232221</td>\n",
       "      <td>1900.0000</td>\n",
       "    </tr>\n",
       "  </tbody>\n",
       "</table>\n",
       "</div>"
      ],
      "text/plain": [
       "          id        rev\n",
       "62   1184303  1530.0000\n",
       "67   3354191  1900.0001\n",
       "77   3278734  1900.0000\n",
       "99    720651  1980.0000\n",
       "193  1232221  1900.0000"
      ]
     },
     "execution_count": 16,
     "metadata": {},
     "output_type": "execute_result"
    }
   ],
   "source": [
    "active_checks = (active_studs.merge(checks, how='left', on='student_id').rename(columns={'student_id': 'id'})\n",
    "                )\n",
    "active_checks.query('rev.notna()').info()\n",
    "active_checks.query('rev.notna()').head()"
   ]
  },
  {
   "cell_type": "markdown",
   "metadata": {},
   "source": [
    "Объединим активных оплативших из предыдущего шага с groups_total, оставив только активных (нам нужны розовая и серая области c данными о группах):"
   ]
  },
  {
   "cell_type": "code",
   "execution_count": 17,
   "metadata": {},
   "outputs": [
    {
     "name": "stdout",
     "output_type": "stream",
     "text": [
      "<class 'pandas.core.frame.DataFrame'>\n",
      "Int64Index: 8341 entries, 0 to 8340\n",
      "Data columns (total 3 columns):\n",
      " #   Column  Non-Null Count  Dtype  \n",
      "---  ------  --------------  -----  \n",
      " 0   id      8341 non-null   int64  \n",
      " 1   grp     8341 non-null   object \n",
      " 2   rev     392 non-null    float64\n",
      "dtypes: float64(1), int64(1), object(1)\n",
      "memory usage: 260.7+ KB\n"
     ]
    },
    {
     "data": {
      "text/html": [
       "<div>\n",
       "<style scoped>\n",
       "    .dataframe tbody tr th:only-of-type {\n",
       "        vertical-align: middle;\n",
       "    }\n",
       "\n",
       "    .dataframe tbody tr th {\n",
       "        vertical-align: top;\n",
       "    }\n",
       "\n",
       "    .dataframe thead th {\n",
       "        text-align: right;\n",
       "    }\n",
       "</style>\n",
       "<table border=\"1\" class=\"dataframe\">\n",
       "  <thead>\n",
       "    <tr style=\"text-align: right;\">\n",
       "      <th></th>\n",
       "      <th>id</th>\n",
       "      <th>grp</th>\n",
       "      <th>rev</th>\n",
       "    </tr>\n",
       "  </thead>\n",
       "  <tbody>\n",
       "    <tr>\n",
       "      <th>0</th>\n",
       "      <td>581585</td>\n",
       "      <td>A</td>\n",
       "      <td>NaN</td>\n",
       "    </tr>\n",
       "    <tr>\n",
       "      <th>1</th>\n",
       "      <td>5723133</td>\n",
       "      <td>A</td>\n",
       "      <td>NaN</td>\n",
       "    </tr>\n",
       "    <tr>\n",
       "      <th>2</th>\n",
       "      <td>3276743</td>\n",
       "      <td>B</td>\n",
       "      <td>NaN</td>\n",
       "    </tr>\n",
       "    <tr>\n",
       "      <th>3</th>\n",
       "      <td>4238589</td>\n",
       "      <td>A</td>\n",
       "      <td>NaN</td>\n",
       "    </tr>\n",
       "    <tr>\n",
       "      <th>4</th>\n",
       "      <td>4475369</td>\n",
       "      <td>B</td>\n",
       "      <td>NaN</td>\n",
       "    </tr>\n",
       "  </tbody>\n",
       "</table>\n",
       "</div>"
      ],
      "text/plain": [
       "        id grp  rev\n",
       "0   581585   A  NaN\n",
       "1  5723133   A  NaN\n",
       "2  3276743   B  NaN\n",
       "3  4238589   A  NaN\n",
       "4  4475369   B  NaN"
      ]
     },
     "execution_count": 17,
     "metadata": {},
     "output_type": "execute_result"
    }
   ],
   "source": [
    "active_total = groups_total.merge(active_checks, how='right', on='id')\n",
    "active_total.info()\n",
    "active_total.head()"
   ]
  },
  {
   "cell_type": "markdown",
   "metadata": {},
   "source": [
    "Добавим колонку со статусом оплаты (0 - не оплачен, 1 - оплачен):\n"
   ]
  },
  {
   "cell_type": "code",
   "execution_count": 18,
   "metadata": {},
   "outputs": [
    {
     "name": "stdout",
     "output_type": "stream",
     "text": [
      "<class 'pandas.core.frame.DataFrame'>\n",
      "Int64Index: 7949 entries, 0 to 8340\n",
      "Data columns (total 4 columns):\n",
      " #   Column   Non-Null Count  Dtype  \n",
      "---  ------   --------------  -----  \n",
      " 0   id       7949 non-null   int64  \n",
      " 1   grp      7949 non-null   object \n",
      " 2   rev      0 non-null      float64\n",
      " 3   payment  7949 non-null   int64  \n",
      "dtypes: float64(1), int64(2), object(1)\n",
      "memory usage: 310.5+ KB\n"
     ]
    },
    {
     "data": {
      "text/html": [
       "<div>\n",
       "<style scoped>\n",
       "    .dataframe tbody tr th:only-of-type {\n",
       "        vertical-align: middle;\n",
       "    }\n",
       "\n",
       "    .dataframe tbody tr th {\n",
       "        vertical-align: top;\n",
       "    }\n",
       "\n",
       "    .dataframe thead th {\n",
       "        text-align: right;\n",
       "    }\n",
       "</style>\n",
       "<table border=\"1\" class=\"dataframe\">\n",
       "  <thead>\n",
       "    <tr style=\"text-align: right;\">\n",
       "      <th></th>\n",
       "      <th>id</th>\n",
       "      <th>grp</th>\n",
       "      <th>rev</th>\n",
       "      <th>payment</th>\n",
       "    </tr>\n",
       "  </thead>\n",
       "  <tbody>\n",
       "    <tr>\n",
       "      <th>0</th>\n",
       "      <td>581585</td>\n",
       "      <td>A</td>\n",
       "      <td>NaN</td>\n",
       "      <td>0</td>\n",
       "    </tr>\n",
       "    <tr>\n",
       "      <th>1</th>\n",
       "      <td>5723133</td>\n",
       "      <td>A</td>\n",
       "      <td>NaN</td>\n",
       "      <td>0</td>\n",
       "    </tr>\n",
       "    <tr>\n",
       "      <th>2</th>\n",
       "      <td>3276743</td>\n",
       "      <td>B</td>\n",
       "      <td>NaN</td>\n",
       "      <td>0</td>\n",
       "    </tr>\n",
       "    <tr>\n",
       "      <th>3</th>\n",
       "      <td>4238589</td>\n",
       "      <td>A</td>\n",
       "      <td>NaN</td>\n",
       "      <td>0</td>\n",
       "    </tr>\n",
       "    <tr>\n",
       "      <th>4</th>\n",
       "      <td>4475369</td>\n",
       "      <td>B</td>\n",
       "      <td>NaN</td>\n",
       "      <td>0</td>\n",
       "    </tr>\n",
       "  </tbody>\n",
       "</table>\n",
       "</div>"
      ],
      "text/plain": [
       "        id grp  rev  payment\n",
       "0   581585   A  NaN        0\n",
       "1  5723133   A  NaN        0\n",
       "2  3276743   B  NaN        0\n",
       "3  4238589   A  NaN        0\n",
       "4  4475369   B  NaN        0"
      ]
     },
     "execution_count": 18,
     "metadata": {},
     "output_type": "execute_result"
    }
   ],
   "source": [
    "\n",
    "active_total['payment'] = active_total.rev.apply(lambda x: 0 if np.isnan(x) else 1)\n",
    "active_total.query('rev.isna()').info()\n",
    "active_total.query('rev.isna()').head()\n"
   ]
  },
  {
   "cell_type": "markdown",
   "metadata": {},
   "source": [
    "Работать с NaN не удобно, поменяем NaN на 0:"
   ]
  },
  {
   "cell_type": "code",
   "execution_count": 19,
   "metadata": {},
   "outputs": [],
   "source": [
    "active_total['rev'] = active_total.rev.fillna(0)\n"
   ]
  },
  {
   "cell_type": "markdown",
   "metadata": {},
   "source": [
    "Сформируем датафрейм со всей собранной информацией. Активные + оплатившие (серая зона):\n",
    "\n",
    "\n",
    "\n"
   ]
  },
  {
   "cell_type": "code",
   "execution_count": 20,
   "metadata": {},
   "outputs": [
    {
     "name": "stdout",
     "output_type": "stream",
     "text": [
      "<class 'pandas.core.frame.DataFrame'>\n",
      "Int64Index: 392 entries, 62 to 8339\n",
      "Data columns (total 4 columns):\n",
      " #   Column   Non-Null Count  Dtype  \n",
      "---  ------   --------------  -----  \n",
      " 0   id       392 non-null    int64  \n",
      " 1   grp      392 non-null    object \n",
      " 2   rev      392 non-null    float64\n",
      " 3   payment  392 non-null    int64  \n",
      "dtypes: float64(1), int64(2), object(1)\n",
      "memory usage: 15.3+ KB\n"
     ]
    },
    {
     "data": {
      "text/html": [
       "<div>\n",
       "<style scoped>\n",
       "    .dataframe tbody tr th:only-of-type {\n",
       "        vertical-align: middle;\n",
       "    }\n",
       "\n",
       "    .dataframe tbody tr th {\n",
       "        vertical-align: top;\n",
       "    }\n",
       "\n",
       "    .dataframe thead th {\n",
       "        text-align: right;\n",
       "    }\n",
       "</style>\n",
       "<table border=\"1\" class=\"dataframe\">\n",
       "  <thead>\n",
       "    <tr style=\"text-align: right;\">\n",
       "      <th></th>\n",
       "      <th>id</th>\n",
       "      <th>grp</th>\n",
       "      <th>rev</th>\n",
       "      <th>payment</th>\n",
       "    </tr>\n",
       "  </thead>\n",
       "  <tbody>\n",
       "    <tr>\n",
       "      <th>62</th>\n",
       "      <td>1184303</td>\n",
       "      <td>A</td>\n",
       "      <td>1530.0000</td>\n",
       "      <td>1</td>\n",
       "    </tr>\n",
       "    <tr>\n",
       "      <th>67</th>\n",
       "      <td>3354191</td>\n",
       "      <td>B</td>\n",
       "      <td>1900.0001</td>\n",
       "      <td>1</td>\n",
       "    </tr>\n",
       "    <tr>\n",
       "      <th>77</th>\n",
       "      <td>3278734</td>\n",
       "      <td>B</td>\n",
       "      <td>1900.0000</td>\n",
       "      <td>1</td>\n",
       "    </tr>\n",
       "    <tr>\n",
       "      <th>99</th>\n",
       "      <td>720651</td>\n",
       "      <td>A</td>\n",
       "      <td>1980.0000</td>\n",
       "      <td>1</td>\n",
       "    </tr>\n",
       "    <tr>\n",
       "      <th>193</th>\n",
       "      <td>1232221</td>\n",
       "      <td>B</td>\n",
       "      <td>1900.0000</td>\n",
       "      <td>1</td>\n",
       "    </tr>\n",
       "  </tbody>\n",
       "</table>\n",
       "</div>"
      ],
      "text/plain": [
       "          id grp        rev  payment\n",
       "62   1184303   A  1530.0000        1\n",
       "67   3354191   B  1900.0001        1\n",
       "77   3278734   B  1900.0000        1\n",
       "99    720651   A  1980.0000        1\n",
       "193  1232221   B  1900.0000        1"
      ]
     },
     "execution_count": 20,
     "metadata": {},
     "output_type": "execute_result"
    }
   ],
   "source": [
    "active_total_paid = active_total.query('rev != 0')\n",
    "active_total_paid.info()\n",
    "active_total_paid.head()\n"
   ]
  },
  {
   "cell_type": "markdown",
   "metadata": {},
   "source": [
    "Создадим группу А:"
   ]
  },
  {
   "cell_type": "code",
   "execution_count": 21,
   "metadata": {},
   "outputs": [
    {
     "name": "stdout",
     "output_type": "stream",
     "text": [
      "<class 'pandas.core.frame.DataFrame'>\n",
      "Int64Index: 1538 entries, 0 to 8334\n",
      "Data columns (total 4 columns):\n",
      " #   Column   Non-Null Count  Dtype  \n",
      "---  ------   --------------  -----  \n",
      " 0   id       1538 non-null   int64  \n",
      " 1   grp      1538 non-null   object \n",
      " 2   rev      1538 non-null   float64\n",
      " 3   payment  1538 non-null   int64  \n",
      "dtypes: float64(1), int64(2), object(1)\n",
      "memory usage: 60.1+ KB\n"
     ]
    },
    {
     "data": {
      "text/html": [
       "<div>\n",
       "<style scoped>\n",
       "    .dataframe tbody tr th:only-of-type {\n",
       "        vertical-align: middle;\n",
       "    }\n",
       "\n",
       "    .dataframe tbody tr th {\n",
       "        vertical-align: top;\n",
       "    }\n",
       "\n",
       "    .dataframe thead th {\n",
       "        text-align: right;\n",
       "    }\n",
       "</style>\n",
       "<table border=\"1\" class=\"dataframe\">\n",
       "  <thead>\n",
       "    <tr style=\"text-align: right;\">\n",
       "      <th></th>\n",
       "      <th>id</th>\n",
       "      <th>grp</th>\n",
       "      <th>rev</th>\n",
       "      <th>payment</th>\n",
       "    </tr>\n",
       "  </thead>\n",
       "  <tbody>\n",
       "    <tr>\n",
       "      <th>0</th>\n",
       "      <td>581585</td>\n",
       "      <td>A</td>\n",
       "      <td>0.0</td>\n",
       "      <td>0</td>\n",
       "    </tr>\n",
       "    <tr>\n",
       "      <th>1</th>\n",
       "      <td>5723133</td>\n",
       "      <td>A</td>\n",
       "      <td>0.0</td>\n",
       "      <td>0</td>\n",
       "    </tr>\n",
       "    <tr>\n",
       "      <th>3</th>\n",
       "      <td>4238589</td>\n",
       "      <td>A</td>\n",
       "      <td>0.0</td>\n",
       "      <td>0</td>\n",
       "    </tr>\n",
       "    <tr>\n",
       "      <th>7</th>\n",
       "      <td>1394612</td>\n",
       "      <td>A</td>\n",
       "      <td>0.0</td>\n",
       "      <td>0</td>\n",
       "    </tr>\n",
       "    <tr>\n",
       "      <th>21</th>\n",
       "      <td>5194768</td>\n",
       "      <td>A</td>\n",
       "      <td>0.0</td>\n",
       "      <td>0</td>\n",
       "    </tr>\n",
       "  </tbody>\n",
       "</table>\n",
       "</div>"
      ],
      "text/plain": [
       "         id grp  rev  payment\n",
       "0    581585   A  0.0        0\n",
       "1   5723133   A  0.0        0\n",
       "3   4238589   A  0.0        0\n",
       "7   1394612   A  0.0        0\n",
       "21  5194768   A  0.0        0"
      ]
     },
     "execution_count": 21,
     "metadata": {},
     "output_type": "execute_result"
    }
   ],
   "source": [
    "a_group = active_total.query('grp == \"A\"')\n",
    "a_group.info()\n",
    "a_group.head()"
   ]
  },
  {
   "cell_type": "markdown",
   "metadata": {},
   "source": [
    "Создадим подгруппу оплативших в группе А:\n"
   ]
  },
  {
   "cell_type": "code",
   "execution_count": 22,
   "metadata": {},
   "outputs": [
    {
     "name": "stdout",
     "output_type": "stream",
     "text": [
      "<class 'pandas.core.frame.DataFrame'>\n",
      "Int64Index: 78 entries, 62 to 8263\n",
      "Data columns (total 4 columns):\n",
      " #   Column   Non-Null Count  Dtype  \n",
      "---  ------   --------------  -----  \n",
      " 0   id       78 non-null     int64  \n",
      " 1   grp      78 non-null     object \n",
      " 2   rev      78 non-null     float64\n",
      " 3   payment  78 non-null     int64  \n",
      "dtypes: float64(1), int64(2), object(1)\n",
      "memory usage: 3.0+ KB\n"
     ]
    },
    {
     "data": {
      "text/html": [
       "<div>\n",
       "<style scoped>\n",
       "    .dataframe tbody tr th:only-of-type {\n",
       "        vertical-align: middle;\n",
       "    }\n",
       "\n",
       "    .dataframe tbody tr th {\n",
       "        vertical-align: top;\n",
       "    }\n",
       "\n",
       "    .dataframe thead th {\n",
       "        text-align: right;\n",
       "    }\n",
       "</style>\n",
       "<table border=\"1\" class=\"dataframe\">\n",
       "  <thead>\n",
       "    <tr style=\"text-align: right;\">\n",
       "      <th></th>\n",
       "      <th>id</th>\n",
       "      <th>grp</th>\n",
       "      <th>rev</th>\n",
       "      <th>payment</th>\n",
       "    </tr>\n",
       "  </thead>\n",
       "  <tbody>\n",
       "    <tr>\n",
       "      <th>62</th>\n",
       "      <td>1184303</td>\n",
       "      <td>A</td>\n",
       "      <td>1530.0</td>\n",
       "      <td>1</td>\n",
       "    </tr>\n",
       "    <tr>\n",
       "      <th>99</th>\n",
       "      <td>720651</td>\n",
       "      <td>A</td>\n",
       "      <td>1980.0</td>\n",
       "      <td>1</td>\n",
       "    </tr>\n",
       "    <tr>\n",
       "      <th>306</th>\n",
       "      <td>4337103</td>\n",
       "      <td>A</td>\n",
       "      <td>580.0</td>\n",
       "      <td>1</td>\n",
       "    </tr>\n",
       "    <tr>\n",
       "      <th>392</th>\n",
       "      <td>332387</td>\n",
       "      <td>A</td>\n",
       "      <td>2910.0</td>\n",
       "      <td>1</td>\n",
       "    </tr>\n",
       "    <tr>\n",
       "      <th>439</th>\n",
       "      <td>1659434</td>\n",
       "      <td>A</td>\n",
       "      <td>690.0</td>\n",
       "      <td>1</td>\n",
       "    </tr>\n",
       "  </tbody>\n",
       "</table>\n",
       "</div>"
      ],
      "text/plain": [
       "          id grp     rev  payment\n",
       "62   1184303   A  1530.0        1\n",
       "99    720651   A  1980.0        1\n",
       "306  4337103   A   580.0        1\n",
       "392   332387   A  2910.0        1\n",
       "439  1659434   A   690.0        1"
      ]
     },
     "execution_count": 22,
     "metadata": {},
     "output_type": "execute_result"
    }
   ],
   "source": [
    "a_group_paid = a_group.query('rev > 0')\n",
    "a_group_paid.info()\n",
    "a_group_paid.head()"
   ]
  },
  {
   "cell_type": "markdown",
   "metadata": {},
   "source": [
    "Проделываем аналогичное для группы В\n",
    "Активные пользователи, группа B:"
   ]
  },
  {
   "cell_type": "code",
   "execution_count": 23,
   "metadata": {},
   "outputs": [
    {
     "name": "stdout",
     "output_type": "stream",
     "text": [
      "<class 'pandas.core.frame.DataFrame'>\n",
      "Int64Index: 6803 entries, 2 to 8340\n",
      "Data columns (total 4 columns):\n",
      " #   Column   Non-Null Count  Dtype  \n",
      "---  ------   --------------  -----  \n",
      " 0   id       6803 non-null   int64  \n",
      " 1   grp      6803 non-null   object \n",
      " 2   rev      6803 non-null   float64\n",
      " 3   payment  6803 non-null   int64  \n",
      "dtypes: float64(1), int64(2), object(1)\n",
      "memory usage: 265.7+ KB\n"
     ]
    },
    {
     "data": {
      "text/html": [
       "<div>\n",
       "<style scoped>\n",
       "    .dataframe tbody tr th:only-of-type {\n",
       "        vertical-align: middle;\n",
       "    }\n",
       "\n",
       "    .dataframe tbody tr th {\n",
       "        vertical-align: top;\n",
       "    }\n",
       "\n",
       "    .dataframe thead th {\n",
       "        text-align: right;\n",
       "    }\n",
       "</style>\n",
       "<table border=\"1\" class=\"dataframe\">\n",
       "  <thead>\n",
       "    <tr style=\"text-align: right;\">\n",
       "      <th></th>\n",
       "      <th>id</th>\n",
       "      <th>grp</th>\n",
       "      <th>rev</th>\n",
       "      <th>payment</th>\n",
       "    </tr>\n",
       "  </thead>\n",
       "  <tbody>\n",
       "    <tr>\n",
       "      <th>2</th>\n",
       "      <td>3276743</td>\n",
       "      <td>B</td>\n",
       "      <td>0.0</td>\n",
       "      <td>0</td>\n",
       "    </tr>\n",
       "    <tr>\n",
       "      <th>4</th>\n",
       "      <td>4475369</td>\n",
       "      <td>B</td>\n",
       "      <td>0.0</td>\n",
       "      <td>0</td>\n",
       "    </tr>\n",
       "    <tr>\n",
       "      <th>5</th>\n",
       "      <td>5481015</td>\n",
       "      <td>B</td>\n",
       "      <td>0.0</td>\n",
       "      <td>0</td>\n",
       "    </tr>\n",
       "    <tr>\n",
       "      <th>6</th>\n",
       "      <td>1353433</td>\n",
       "      <td>B</td>\n",
       "      <td>0.0</td>\n",
       "      <td>0</td>\n",
       "    </tr>\n",
       "    <tr>\n",
       "      <th>8</th>\n",
       "      <td>1170611</td>\n",
       "      <td>B</td>\n",
       "      <td>0.0</td>\n",
       "      <td>0</td>\n",
       "    </tr>\n",
       "  </tbody>\n",
       "</table>\n",
       "</div>"
      ],
      "text/plain": [
       "        id grp  rev  payment\n",
       "2  3276743   B  0.0        0\n",
       "4  4475369   B  0.0        0\n",
       "5  5481015   B  0.0        0\n",
       "6  1353433   B  0.0        0\n",
       "8  1170611   B  0.0        0"
      ]
     },
     "execution_count": 23,
     "metadata": {},
     "output_type": "execute_result"
    }
   ],
   "source": [
    "b_group = active_total.query('grp == \"B\"')\n",
    "b_group.info()\n",
    "b_group.head()\n"
   ]
  },
  {
   "cell_type": "markdown",
   "metadata": {},
   "source": [
    "Активные оплатившие пользователи, группа B:"
   ]
  },
  {
   "cell_type": "code",
   "execution_count": 24,
   "metadata": {},
   "outputs": [
    {
     "name": "stdout",
     "output_type": "stream",
     "text": [
      "<class 'pandas.core.frame.DataFrame'>\n",
      "Int64Index: 314 entries, 67 to 8339\n",
      "Data columns (total 4 columns):\n",
      " #   Column   Non-Null Count  Dtype  \n",
      "---  ------   --------------  -----  \n",
      " 0   id       314 non-null    int64  \n",
      " 1   grp      314 non-null    object \n",
      " 2   rev      314 non-null    float64\n",
      " 3   payment  314 non-null    int64  \n",
      "dtypes: float64(1), int64(2), object(1)\n",
      "memory usage: 12.3+ KB\n"
     ]
    },
    {
     "data": {
      "text/html": [
       "<div>\n",
       "<style scoped>\n",
       "    .dataframe tbody tr th:only-of-type {\n",
       "        vertical-align: middle;\n",
       "    }\n",
       "\n",
       "    .dataframe tbody tr th {\n",
       "        vertical-align: top;\n",
       "    }\n",
       "\n",
       "    .dataframe thead th {\n",
       "        text-align: right;\n",
       "    }\n",
       "</style>\n",
       "<table border=\"1\" class=\"dataframe\">\n",
       "  <thead>\n",
       "    <tr style=\"text-align: right;\">\n",
       "      <th></th>\n",
       "      <th>id</th>\n",
       "      <th>grp</th>\n",
       "      <th>rev</th>\n",
       "      <th>payment</th>\n",
       "    </tr>\n",
       "  </thead>\n",
       "  <tbody>\n",
       "    <tr>\n",
       "      <th>67</th>\n",
       "      <td>3354191</td>\n",
       "      <td>B</td>\n",
       "      <td>1900.0001</td>\n",
       "      <td>1</td>\n",
       "    </tr>\n",
       "    <tr>\n",
       "      <th>77</th>\n",
       "      <td>3278734</td>\n",
       "      <td>B</td>\n",
       "      <td>1900.0000</td>\n",
       "      <td>1</td>\n",
       "    </tr>\n",
       "    <tr>\n",
       "      <th>193</th>\n",
       "      <td>1232221</td>\n",
       "      <td>B</td>\n",
       "      <td>1900.0000</td>\n",
       "      <td>1</td>\n",
       "    </tr>\n",
       "    <tr>\n",
       "      <th>195</th>\n",
       "      <td>3821501</td>\n",
       "      <td>B</td>\n",
       "      <td>1900.0000</td>\n",
       "      <td>1</td>\n",
       "    </tr>\n",
       "    <tr>\n",
       "      <th>211</th>\n",
       "      <td>1036096</td>\n",
       "      <td>B</td>\n",
       "      <td>1900.0000</td>\n",
       "      <td>1</td>\n",
       "    </tr>\n",
       "  </tbody>\n",
       "</table>\n",
       "</div>"
      ],
      "text/plain": [
       "          id grp        rev  payment\n",
       "67   3354191   B  1900.0001        1\n",
       "77   3278734   B  1900.0000        1\n",
       "193  1232221   B  1900.0000        1\n",
       "195  3821501   B  1900.0000        1\n",
       "211  1036096   B  1900.0000        1"
      ]
     },
     "execution_count": 24,
     "metadata": {},
     "output_type": "execute_result"
    }
   ],
   "source": [
    "b_group_paid = b_group.query('rev > 0')\n",
    "b_group_paid.info()\n",
    "b_group_paid.head()\n",
    "\n"
   ]
  },
  {
   "cell_type": "markdown",
   "metadata": {},
   "source": [
    "##### Теперь проверим распределение пользователей в группах по сумме оплаты:\n",
    "На этом этапе можно решить, есть ли в группах каие-то особенности"
   ]
  },
  {
   "cell_type": "code",
   "execution_count": 25,
   "metadata": {},
   "outputs": [
    {
     "data": {
      "text/plain": [
       "Text(0, 0.5, 'Количество наблюдений')"
      ]
     },
     "execution_count": 25,
     "metadata": {},
     "output_type": "execute_result"
    },
    {
     "data": {
      "image/png": "[encoded data removed]",
      "text/plain": [
       "<Figure size 432x288 with 1 Axes>"
      ]
     },
     "metadata": {
      "needs_background": "light"
     },
     "output_type": "display_data"
    }
   ],
   "source": [
    "a_group.rev.hist(bins=50)\n",
    "sns.despine()\n",
    "plt.title('Распределение значений в группе A', pad=20, fontsize=14)\n",
    "plt.xlabel('Значения стоимости одной покупки', fontsize=12)\n",
    "plt.ylabel('Количество наблюдений', fontsize=12)\n"
   ]
  },
  {
   "cell_type": "code",
   "execution_count": 26,
   "metadata": {},
   "outputs": [
    {
     "data": {
      "text/plain": [
       "Text(0, 0.5, 'Количество наблюдений')"
      ]
     },
     "execution_count": 26,
     "metadata": {},
     "output_type": "execute_result"
    },
    {
     "data": {
      "image/png": "[encoded data removed]",
      "text/plain": [
       "<Figure size 432x288 with 1 Axes>"
      ]
     },
     "metadata": {
      "needs_background": "light"
     },
     "output_type": "display_data"
    }
   ],
   "source": [
    "b_group.rev.hist(bins=50)\n",
    "sns.despine()\n",
    "plt.title('Распределение значений в группе В', pad=20, fontsize=14)\n",
    "plt.xlabel('Значения стоимости одной покупки', fontsize=12)\n",
    "plt.ylabel('Количество наблюдений', fontsize=12)"
   ]
  },
  {
   "cell_type": "code",
   "execution_count": 27,
   "metadata": {},
   "outputs": [
    {
     "data": {
      "text/plain": [
       "Text(0, 0.5, 'Количество наблюдений')"
      ]
     },
     "execution_count": 27,
     "metadata": {},
     "output_type": "execute_result"
    },
    {
     "data": {
      "image/png": "[encoded data removed]",
      "text/plain": [
       "<Figure size 432x288 with 1 Axes>"
      ]
     },
     "metadata": {
      "needs_background": "light"
     },
     "output_type": "display_data"
    }
   ],
   "source": [
    "a_group_paid.rev.hist(bins=50)\n",
    "sns.despine()\n",
    "plt.title('Распределение значений в группе A, купившие', pad=20, fontsize=14)\n",
    "plt.xlabel('Значения стоимости одной покупки', fontsize=12)\n",
    "plt.ylabel('Количество наблюдений', fontsize=12)"
   ]
  },
  {
   "cell_type": "code",
   "execution_count": 28,
   "metadata": {},
   "outputs": [
    {
     "data": {
      "text/plain": [
       "Text(0, 0.5, 'Количество наблюдений')"
      ]
     },
     "execution_count": 28,
     "metadata": {},
     "output_type": "execute_result"
    },
    {
     "data": {
      "image/png": "[encoded data removed]",
      "text/plain": [
       "<Figure size 432x288 with 1 Axes>"
      ]
     },
     "metadata": {
      "needs_background": "light"
     },
     "output_type": "display_data"
    }
   ],
   "source": [
    "b_group_paid.rev.hist(bins=50)\n",
    "sns.despine()\n",
    "plt.title('Распределение значений в группе В, купившие', pad=20, fontsize=14)\n",
    "plt.xlabel('Значения стоимости одной покупки', fontsize=12)\n",
    "plt.ylabel('Количество наблюдений', fontsize=12)"
   ]
  },
  {
   "cell_type": "markdown",
   "metadata": {},
   "source": [
    "Если смотреть на группы целиком, то большинство активных студентов ничего не купило\n",
    "В группах купивших есть пики: А = 250, В = 2000"
   ]
  },
  {
   "cell_type": "markdown",
   "metadata": {},
   "source": [
    "Посмотрим описательную статистику по стоимости покупки в группах:"
   ]
  },
  {
   "cell_type": "code",
   "execution_count": 29,
   "metadata": {},
   "outputs": [
    {
     "data": {
      "text/html": [
       "<div>\n",
       "<style scoped>\n",
       "    .dataframe tbody tr th:only-of-type {\n",
       "        vertical-align: middle;\n",
       "    }\n",
       "\n",
       "    .dataframe tbody tr th {\n",
       "        vertical-align: top;\n",
       "    }\n",
       "\n",
       "    .dataframe thead th {\n",
       "        text-align: right;\n",
       "    }\n",
       "</style>\n",
       "<table border=\"1\" class=\"dataframe\">\n",
       "  <thead>\n",
       "    <tr style=\"text-align: right;\">\n",
       "      <th></th>\n",
       "      <th>Группа A (все)</th>\n",
       "      <th>Группа B (все)</th>\n",
       "      <th>Группа A (оплатившие)</th>\n",
       "      <th>Группа B (оплатившие)</th>\n",
       "    </tr>\n",
       "  </thead>\n",
       "  <tbody>\n",
       "    <tr>\n",
       "      <th>count</th>\n",
       "      <td>1538.000000</td>\n",
       "      <td>6803.000000</td>\n",
       "      <td>78.000000</td>\n",
       "      <td>314.000000</td>\n",
       "    </tr>\n",
       "    <tr>\n",
       "      <th>mean</th>\n",
       "      <td>47.347204</td>\n",
       "      <td>58.058798</td>\n",
       "      <td>933.589744</td>\n",
       "      <td>1257.878992</td>\n",
       "    </tr>\n",
       "    <tr>\n",
       "      <th>std</th>\n",
       "      <td>290.490632</td>\n",
       "      <td>313.770201</td>\n",
       "      <td>919.932711</td>\n",
       "      <td>790.864254</td>\n",
       "    </tr>\n",
       "    <tr>\n",
       "      <th>min</th>\n",
       "      <td>0.000000</td>\n",
       "      <td>0.000000</td>\n",
       "      <td>199.000000</td>\n",
       "      <td>199.000000</td>\n",
       "    </tr>\n",
       "    <tr>\n",
       "      <th>25%</th>\n",
       "      <td>0.000000</td>\n",
       "      <td>0.000000</td>\n",
       "      <td>290.000000</td>\n",
       "      <td>511.750000</td>\n",
       "    </tr>\n",
       "    <tr>\n",
       "      <th>50%</th>\n",
       "      <td>0.000000</td>\n",
       "      <td>0.000000</td>\n",
       "      <td>585.000000</td>\n",
       "      <td>1140.000000</td>\n",
       "    </tr>\n",
       "    <tr>\n",
       "      <th>75%</th>\n",
       "      <td>0.000000</td>\n",
       "      <td>0.000000</td>\n",
       "      <td>1114.750000</td>\n",
       "      <td>1900.000000</td>\n",
       "    </tr>\n",
       "    <tr>\n",
       "      <th>max</th>\n",
       "      <td>3660.000000</td>\n",
       "      <td>4650.000000</td>\n",
       "      <td>3660.000000</td>\n",
       "      <td>4650.000000</td>\n",
       "    </tr>\n",
       "  </tbody>\n",
       "</table>\n",
       "</div>"
      ],
      "text/plain": [
       "       Группа A (все)  Группа B (все)  Группа A (оплатившие)  \\\n",
       "count     1538.000000     6803.000000              78.000000   \n",
       "mean        47.347204       58.058798             933.589744   \n",
       "std        290.490632      313.770201             919.932711   \n",
       "min          0.000000        0.000000             199.000000   \n",
       "25%          0.000000        0.000000             290.000000   \n",
       "50%          0.000000        0.000000             585.000000   \n",
       "75%          0.000000        0.000000            1114.750000   \n",
       "max       3660.000000     4650.000000            3660.000000   \n",
       "\n",
       "       Группа B (оплатившие)  \n",
       "count             314.000000  \n",
       "mean             1257.878992  \n",
       "std               790.864254  \n",
       "min               199.000000  \n",
       "25%               511.750000  \n",
       "50%              1140.000000  \n",
       "75%              1900.000000  \n",
       "max              4650.000000  "
      ]
     },
     "execution_count": 29,
     "metadata": {},
     "output_type": "execute_result"
    }
   ],
   "source": [
    "a_stats = a_group.rev.describe().to_frame().rename(columns={'rev': 'Группа A (все)'})\n",
    "b_stats = b_group.rev.describe().to_frame().rename(columns={'rev': 'Группа B (все)'})\n",
    "\n",
    "a_paid_stats = a_group_paid.rev.describe().to_frame().rename(columns={'rev': 'Группа A (оплатившие)'})\n",
    "b_paid_stats = b_group_paid.rev.describe().to_frame().rename(columns={'rev': 'Группа B (оплатившие)'})\n",
    "\n",
    "result_table = pd.concat([a_stats, b_stats, a_paid_stats, b_paid_stats], axis=1)\n",
    "\n",
    "result_table"
   ]
  },
  {
   "cell_type": "markdown",
   "metadata": {},
   "source": [
    "Есть ли в данных выбросы? \n",
    "Для начала оценим всех пользователей"
   ]
  },
  {
   "cell_type": "code",
   "execution_count": 31,
   "metadata": {},
   "outputs": [
    {
     "data": {
      "image/png": "[encoded data removed]",
      "text/plain": [
       "<Figure size 432x288 with 1 Axes>"
      ]
     },
     "metadata": {
      "needs_background": "light"
     },
     "output_type": "display_data"
    }
   ],
   "source": [
    "sns.boxplot(data=active_total, y='rev', x='grp')\n",
    "sns.despine()\n"
   ]
  },
  {
   "cell_type": "markdown",
   "metadata": {},
   "source": [
    "Тепрь купиших:"
   ]
  },
  {
   "cell_type": "code",
   "execution_count": 32,
   "metadata": {},
   "outputs": [
    {
     "data": {
      "image/png": "[encoded data removed]",
      "text/plain": [
       "<Figure size 432x288 with 1 Axes>"
      ]
     },
     "metadata": {
      "needs_background": "light"
     },
     "output_type": "display_data"
    }
   ],
   "source": [
    "sns.boxplot(data=active_total_paid, y='rev', x='grp')\n",
    "sns.despine()"
   ]
  },
  {
   "cell_type": "markdown",
   "metadata": {},
   "source": [
    "Визуально кажется, что выбросы есть. Можно предположить, что выбросы по цене - редкие большие покупки подписок.\n",
    "Например - максимальные значения в описательно статистике"
   ]
  },
  {
   "cell_type": "markdown",
   "metadata": {},
   "source": [
    "#### На основе полученных данных, какие метрики лучше использовать?\n",
    "\n",
    "- CR (Conversion Rate) — это коэффициент конверсии, то есть отношение числа пользователей, совершивших целевое действие на сайте, к общему количеству посетителей. Для нас это будет отношением количество пользователей, совершивших покупку. Важный показатель, так как в теории чем он выше, тем проще пользователю совершить полезное действие\n",
    "- ARPU (Average Revenue Per User) — это показатель среднего дохода, который компания получает от одного пользователя за определённый период. Проще говоря, сколько в среднем приносит бизнесу каждый клиент. Для нас это будет сумма rev отношению ко всем активным пользователям\n",
    "- ARPPU (Average Revenue Per Paying User) — средний доход с платящего пользователя. Метрика фокусируется исключительно на клиентах, совершивших покупку. Для нас - тншение суммы rev к числу заплативших активных клиентов\n",
    "\n",
    "Считать показатели будем отдельно для групп А и В. Устойчивая разница для одной из групп будет результатом проведенного А/В тестирования"
   ]
  },
  {
   "cell_type": "markdown",
   "metadata": {},
   "source": [
    "Найдем CR:"
   ]
  },
  {
   "cell_type": "code",
   "execution_count": 33,
   "metadata": {},
   "outputs": [
    {
     "name": "stdout",
     "output_type": "stream",
     "text": [
      "\u001b[1mCR (Conversion Rate)\u001b[0m\n",
      "Конверсия оплативших пользователей:\n",
      "Группа A: 0.0507\n",
      "Группа B: 0.0462\n",
      "Конверсия у группы B на 8.9% меньше, чем у группы A\n"
     ]
    }
   ],
   "source": [
    "cr_a = round(a_group_paid.id.count() / a_group.id.count(), 4)\n",
    "cr_b = round(b_group_paid.id.count() / b_group.id.count(), 4)\n",
    "diff = round((cr_b - cr_a) / cr_a * 100, 1)\n",
    "\n",
    "print('\\033[1mCR (Conversion Rate)\\033[0m')\n",
    "print('Конверсия оплативших пользователей:')\n",
    "print(f'Группа A: {cr_a}') \n",
    "print(f'Группа B: {cr_b}')\n",
    "\n",
    "if diff > 0:\n",
    "    print(f'Конверсия у группы B на {diff}% больше, чем у группы A')\n",
    "elif diff < 0:\n",
    "    print(f'Конверсия у группы B на {abs(diff)}% меньше, чем у группы A')\n",
    "else:\n",
    "    print('Конверсии в группах A и B равны')"
   ]
  },
  {
   "cell_type": "markdown",
   "metadata": {},
   "source": [
    "Найдем ARPU:"
   ]
  },
  {
   "cell_type": "code",
   "execution_count": 34,
   "metadata": {},
   "outputs": [
    {
     "name": "stdout",
     "output_type": "stream",
     "text": [
      "\n",
      "\u001b[1mARPPU\u001b[0m\n",
      "Отношение общей суммы на количество активных оплативших пользователей:\n",
      "Группа A: 933.59\n",
      "Группа B: 1257.88\n",
      "ARPPU группы B на 34.74% больше, чем у группы A\n"
     ]
    }
   ],
   "source": [
    "# Рассчитываем средние значения\n",
    "arppu_a = round(a_group_paid.rev.mean(), 2)\n",
    "arppu_b = round(b_group_paid.rev.mean(), 2)\n",
    "diff_percent = round((arppu_b - arppu_a) / arppu_a * 100, 2)\n",
    "\n",
    "# Формируем вывод\n",
    "print('\\n\\033[1mARPPU\\033[0m')\n",
    "print('Отношение общей суммы на количество активных оплативших пользователей:')\n",
    "print(f'Группа A: {arppu_a}')\n",
    "print(f'Группа B: {arppu_b}')\n",
    "\n",
    "# Сравнение групп\n",
    "if diff_percent > 0:\n",
    "    print(f'ARPPU группы B на {diff_percent}% больше, чем у группы A')\n",
    "elif diff_percent < 0:\n",
    "    print(f'ARPPU группы B на {abs(diff_percent)}% меньше, чем у группы A')\n",
    "else:\n",
    "    print('ARPPU в группах A и B равны')"
   ]
  },
  {
   "cell_type": "markdown",
   "metadata": {},
   "source": [
    "Найдем ARPPU:"
   ]
  },
  {
   "cell_type": "code",
   "execution_count": 35,
   "metadata": {},
   "outputs": [
    {
     "name": "stdout",
     "output_type": "stream",
     "text": [
      "\n",
      "\u001b[1mARPU\u001b[0m\n",
      "Отношение общей суммы на количество активных пользователей:\n",
      "Группа A: 47.35\n",
      "Группа B: 58.06\n",
      "ARPU группы B на 22.62% больше, чем у группы A\n"
     ]
    }
   ],
   "source": [
    "# Рассчитываем ARPU для каждой группы\n",
    "arpu_a = round(a_group_paid.rev.sum() / a_group.id.count(), 2)\n",
    "arpu_b = round(b_group_paid.rev.sum() / b_group.id.count(), 2)\n",
    "difference = round((arpu_b - arpu_a) / arpu_a * 100, 2)\n",
    "\n",
    "# Формируем вывод\n",
    "print('\\n\\033[1mARPU\\033[0m')\n",
    "print('Отношение общей суммы на количество активных пользователей:')\n",
    "print(f'Группа A: {arpu_a}')\n",
    "print(f'Группа B: {arpu_b}')\n",
    "\n",
    "# Сравниваем показатели\n",
    "if difference > 0:\n",
    "    print(f'ARPU группы B на {difference}% больше, чем у группы A')\n",
    "elif difference < 0:\n",
    "    print(f'ARPU группы B на {abs(difference)}% меньше, чем у группы A')\n",
    "else:\n",
    "    print('ARPU в группах A и B равны')"
   ]
  },
  {
   "cell_type": "markdown",
   "metadata": {},
   "source": [
    "Ситуация с выбранными метриками не дает однозначного ответа:\n",
    "CR дал отрицательный результат, однако ARPU и ARPPU - положительный. \n",
    "\n",
    "###### Из-за чего это могло бы произойти?\n",
    "\n",
    "По итогам первого этапа мы помним, что пользователи распределены по группам неравномерно, в соотношении примерно 1:4. Может ли быть дело в этом?\n",
    "\n",
    "Чтобы проверить это предположение, нужно дополнительное исследование - bootstrap"
   ]
  },
  {
   "cell_type": "markdown",
   "metadata": {},
   "source": [
    "Для начала создадим функцию, которая позволит произвести bootstrap-исследование:\n"
   ]
  },
  {
   "cell_type": "code",
   "execution_count": 36,
   "metadata": {},
   "outputs": [],
   "source": [
    "\n",
    "def bootstrap_test(\n",
    "    control,          # Контрольная группа\n",
    "    test,            # Тестовая группа\n",
    "    n_iter=1000,     # Количество итераций\n",
    "    stat=np.mean,    # Статистика для сравнения (по умолчанию среднее)\n",
    "    conf_level=0.95, # Уровень доверия\n",
    "    plot=True        # Отрисовывать график\n",
    "):\n",
    "    \"\"\"Упрощенная функция для проверки гипотез методом бутстрапа\"\"\"\n",
    "    \n",
    "    # 1. Генерируем бутстрап-выборки\n",
    "    size = max(len(control), len(test))\n",
    "    diffs = []\n",
    "    \n",
    "    for _ in tqdm(range(n_iter)):\n",
    "        # Бутстрап-выборки с возвращением\n",
    "        c_sample = control.sample(size, replace=True).values\n",
    "        t_sample = test.sample(size, replace=True).values\n",
    "        diffs.append(stat(t_sample - c_sample))\n",
    "    \n",
    "    # 2. Рассчитываем доверительный интервал\n",
    "    ci = np.percentile(diffs, [(1-conf_level)/2*100, (1-(1-conf_level)/2)*100])\n",
    "    \n",
    "    # 3. Вычисляем p-value\n",
    "    mean_diff = np.mean(diffs)\n",
    "    std_diff = np.std(diffs)\n",
    "    p_val = 2 * min(norm.cdf(0, mean_diff, std_diff), norm.cdf(0, -mean_diff, std_diff))\n",
    "    \n",
    "    # 4. Визуализация\n",
    "    if plot:\n",
    "        plt.hist(diffs, bins=50, alpha=0.7)\n",
    "        plt.axvline(ci[0], color='red', linestyle='--')\n",
    "        plt.axvline(ci[1], color='red', linestyle='--')\n",
    "        plt.title('Bootstrap Distribution of Differences')\n",
    "        plt.show()\n",
    "    \n",
    "    return {'confidence_interval': ci, 'p_value': p_val}\n",
    "\n"
   ]
  },
  {
   "cell_type": "markdown",
   "metadata": {},
   "source": [
    "##### CR\n",
    "\n",
    "Сформулируем нулевую и альтернативную гипотезы:\n",
    "\n",
    "H0: CR в двух группах одинаковые.  \n",
    "H1: CR в двух группах различаются."
   ]
  },
  {
   "cell_type": "code",
   "execution_count": 37,
   "metadata": {},
   "outputs": [
    {
     "data": {
      "application/vnd.jupyter.widget-view+json": {
       "model_id": "fecbf0de0ad245b3ae4c88a92f949949",
       "version_major": 2,
       "version_minor": 0
      },
      "text/plain": [
       "HBox(children=(FloatProgress(value=0.0, max=1000.0), HTML(value='')))"
      ]
     },
     "metadata": {},
     "output_type": "display_data"
    },
    {
     "name": "stdout",
     "output_type": "stream",
     "text": [
      "\n"
     ]
    },
    {
     "data": {
      "image/png": "[encoded data removed]",
      "text/plain": [
       "<Figure size 432x288 with 1 Axes>"
      ]
     },
     "metadata": {
      "needs_background": "light"
     },
     "output_type": "display_data"
    },
    {
     "data": {
      "text/plain": [
       "{'confidence_interval': array([-0.01131854,  0.00250257]),\n",
       " 'p_value': 0.21410858575175873}"
      ]
     },
     "execution_count": 37,
     "metadata": {},
     "output_type": "execute_result"
    }
   ],
   "source": [
    "bootstrap_test(a_group.payment, b_group.payment)"
   ]
  },
  {
   "cell_type": "markdown",
   "metadata": {},
   "source": [
    "Доверительный интервал попадает в 0, недостаточно оснований отвергнуть нулевую гипотезу. Нельзя утверждать, что различия CR в двух группах есть."
   ]
  },
  {
   "cell_type": "markdown",
   "metadata": {},
   "source": [
    "##### ARPU\n",
    "Сформулируем нулевую и альтернативную гипотезы:\n",
    "\n",
    "H0: ARPU в двух группах одинаковые.  \n",
    "H1: ARPU в двух группах различаются."
   ]
  },
  {
   "cell_type": "code",
   "execution_count": 38,
   "metadata": {},
   "outputs": [
    {
     "data": {
      "application/vnd.jupyter.widget-view+json": {
       "model_id": "fc18364f11214baa88b633498d3481e6",
       "version_major": 2,
       "version_minor": 0
      },
      "text/plain": [
       "HBox(children=(FloatProgress(value=0.0, max=1000.0), HTML(value='')))"
      ]
     },
     "metadata": {},
     "output_type": "display_data"
    },
    {
     "name": "stdout",
     "output_type": "stream",
     "text": [
      "\n"
     ]
    },
    {
     "data": {
      "image/png": "[encoded data removed]",
      "text/plain": [
       "<Figure size 432x288 with 1 Axes>"
      ]
     },
     "metadata": {
      "needs_background": "light"
     },
     "output_type": "display_data"
    },
    {
     "data": {
      "text/plain": [
       "{'confidence_interval': array([ 0.33537444, 21.22805442]),\n",
       " 'p_value': 0.052675423383389694}"
      ]
     },
     "execution_count": 38,
     "metadata": {},
     "output_type": "execute_result"
    }
   ],
   "source": [
    "bootstrap_test(a_group.rev, b_group.rev)\n"
   ]
  },
  {
   "cell_type": "markdown",
   "metadata": {},
   "source": [
    "Доверительный интервал не попадает в 0, отвергаем нулевую гипотезу. ARPU в двух группах различаются.\n",
    "\n"
   ]
  },
  {
   "cell_type": "markdown",
   "metadata": {},
   "source": [
    "##### ARPPU\n",
    "Сформулируем нулевую и альтернативную гипотезы:\n",
    "\n",
    "H0: ARPPU в двух группах одинаковые.  \n",
    "H1: ARPPU в двух группах различаются."
   ]
  },
  {
   "cell_type": "code",
   "execution_count": 39,
   "metadata": {},
   "outputs": [
    {
     "data": {
      "application/vnd.jupyter.widget-view+json": {
       "model_id": "63c5da05a0eb4e4cb81d8f413f8d8a42",
       "version_major": 2,
       "version_minor": 0
      },
      "text/plain": [
       "HBox(children=(FloatProgress(value=0.0, max=1000.0), HTML(value='')))"
      ]
     },
     "metadata": {},
     "output_type": "display_data"
    },
    {
     "name": "stdout",
     "output_type": "stream",
     "text": [
      "\n"
     ]
    },
    {
     "data": {
      "image/png": "[encoded data removed]",
      "text/plain": [
       "<Figure size 432x288 with 1 Axes>"
      ]
     },
     "metadata": {
      "needs_background": "light"
     },
     "output_type": "display_data"
    },
    {
     "data": {
      "text/plain": [
       "{'confidence_interval': array([195.55773214, 450.10677682]),\n",
       " 'p_value': 8.972057104206661e-07}"
      ]
     },
     "execution_count": 39,
     "metadata": {},
     "output_type": "execute_result"
    }
   ],
   "source": [
    "bootstrap_test(a_group.rev[a_group.rev > 0], b_group.rev[b_group.rev > 0])\n",
    "\n",
    "\n",
    "     "
   ]
  },
  {
   "cell_type": "markdown",
   "metadata": {},
   "source": [
    "Доверительный интервал не попадает в 0, отвергаем нулевую гипотезу. ARPPU в двух группах различаются."
   ]
  },
  {
   "cell_type": "markdown",
   "metadata": {},
   "source": [
    "### Этап 3: Вывод\n",
    "\n",
    "Стоит ли запускать новую механику на всех пользователей?  \n",
    "Да, новая механика оплаты даёт статистически значимый прирост в метриках ARPU и ARPPU, отрицательное изменение метрики CR не подтвердилось."
   ]
  },
  {
   "cell_type": "markdown",
   "metadata": {},
   "source": [
    "### Этап 4: Update по итогам обратной связи\n",
    "\n",
    "В результате проверки проекта была получена обратная связь - внутри проекта не были исследованы дисперсии выброк. Исправим данный недочет\n",
    "\n",
    "#### Оценим дисперсию в 2-х группах:  группе оплативших А, группе оплаивших В. Дополнительно посмотрим стандартное отклонение\n",
    "\n",
    "Нулевая гипотеза - дисперсии равны. Это будет означать, что доработка, которую смотрели в А/В тесте, не повлияла на разброс показателей суммы покупки  \n",
    "Альтернативная гипотеза - дисперсии не равны. Это будет означать, что доработка, которую смотрели в А/В тесте, повлияла на разброс показателей суммы покупки  \n"
   ]
  },
  {
   "cell_type": "markdown",
   "metadata": {},
   "source": [
    "Для начала извлечем из подборок выше данные, с которыми будем работать - колонки оплаты из двух групп  "
   ]
  },
  {
   "cell_type": "code",
   "execution_count": 50,
   "metadata": {},
   "outputs": [],
   "source": [
    "a_rev = a_group_paid['rev']\n",
    "b_rev = b_group_paid['rev']\n"
   ]
  },
  {
   "cell_type": "markdown",
   "metadata": {},
   "source": [
    "Посчитаем дисперсию:"
   ]
  },
  {
   "cell_type": "code",
   "execution_count": 51,
   "metadata": {},
   "outputs": [
    {
     "name": "stdout",
     "output_type": "stream",
     "text": [
      "\n",
      "\u001b[1mДисперсия\u001b[0m\n",
      "Дисперсия в группах активных оплативших пользователей:\n",
      "Дисперсия группы A: 846276.1931401932\n",
      "Дисперсия группы В: 625466.2680387263\n",
      "Дисперсия группы B на 26.09% меньше, чем у группы A\n"
     ]
    }
   ],
   "source": [
    "var_a = a_rev.var(ddof=1)  # ddof=1 для несмещённой оценки\n",
    "var_b = b_rev.var(ddof=1)\n",
    "\n",
    "difference = round((var_b - var_a) / var_a * 100, 2)\n",
    "\n",
    "print('\\n\\033[1mДисперсия\\033[0m')\n",
    "print('Дисперсия в группах активных оплативших пользователей:')\n",
    "print(f\"Дисперсия группы A: {var_a}\")\n",
    "print(f\"Дисперсия группы В: {var_b}\")\n",
    "\n",
    "# Сравниваем показатели\n",
    "if difference > 0:\n",
    "    print(f'Дисперсия группы B на {difference}% больше, чем у группы A')\n",
    "elif difference < 0:\n",
    "    print(f'Дисперсия группы B на {abs(difference)}% меньше, чем у группы A')\n",
    "else:\n",
    "    print('Дисперсия в группах A и B равны')"
   ]
  },
  {
   "cell_type": "markdown",
   "metadata": {},
   "source": [
    "Дисперсия в группе А больше, чем дисперсия в группе В. Это означает,что подтвердилась альтернативная гипотеза - дисперсии не равны.   \n",
    "Для нашего исследования более высокий показатель дисперсии говорит о большей непредсказуемости бизнес-результата, что может означать более высокий риск при прогнозировании. Данный показатель косвенно подтверждает выводы этапа 3 - доработка, которую исследовали в А/В тесте,должна быть рекомендована к промышленной эксплуатации, так как она уменьшила разброс показателей суммы покупки \n",
    "\n",
    "Сама по себе дисперсия является математическим показателем - так как при её вычисления мы возводили различия в квадрат, то и дисперсия выражена в квадратных единицах. Чтобы сделать результат более понятным, дополнительно посчитаем стандартное отклонение:"
   ]
  },
  {
   "cell_type": "code",
   "execution_count": 52,
   "metadata": {},
   "outputs": [
    {
     "name": "stdout",
     "output_type": "stream",
     "text": [
      "\n",
      "\u001b[1mСтандартное отклонение\u001b[0m\n",
      "Стандартное отклонение в группах активных оплативших пользователей:\n",
      "Стандартное отклонение группы A: 919.93\n",
      "Стандартное отклонение группы В: 790.86\n",
      "Стандартное отклонение группы B на 14.03% меньше, чем у группы A\n"
     ]
    }
   ],
   "source": [
    "a_std_deviation = a_rev.std()\n",
    "b_std_deviation = b_rev.std()\n",
    "difference = round((b_std_deviation - a_std_deviation) / a_std_deviation * 100, 2)\n",
    "\n",
    "print('\\n\\033[1mСтандартное отклонение\\033[0m')\n",
    "print('Стандартное отклонение в группах активных оплативших пользователей:')\n",
    "print(f\"Стандартное отклонение группы A: {a_std_deviation:.2f}\")\n",
    "print(f\"Стандартное отклонение группы В: {b_std_deviation:.2f}\")\n",
    "\n",
    "# Сравниваем показатели\n",
    "if difference > 0:\n",
    "    print(f'Стандартное отклонение группы B на {difference}% больше, чем у группы A')\n",
    "elif difference < 0:\n",
    "    print(f'Стандартное отклонение группы B на {abs(difference)}% меньше, чем у группы A')\n",
    "else:\n",
    "    print('Стандартное отклонение в группах A и B равны')"
   ]
  },
  {
   "cell_type": "markdown",
   "metadata": {},
   "source": [
    "Можно сказать, что разброс стоимостей счёта:  \n",
    "± 919.93 ₽ для группы А  \n",
    "± 790.86 ₽ для группы В\n"
   ]
  },
  {
   "cell_type": "markdown",
   "metadata": {},
   "source": [
    "### Вывод:\n",
    "Дисперсия и стандартное отклоненеие в группе А выше, чем дисперсия и стандартное отклонение в группе В. Это означает более низкий разброс показателей для группы В и дополнительно подтверждает пользу от внедрения изменения\n",
    "\n",
    "Так же дополнительно подтвердилась необходимость использовать бутстреп-тест:  \n",
    "Высокие значения дисперсии указывают на сильный разброс данных, на наличие выбросов, которые искажают параметрические оценки  \n",
    "\n",
    "Бутстреп не требует предположений о нормальности и устойчив к отклонениям от неё\n"
   ]
  },
  {
   "cell_type": "markdown",
   "metadata": {},
   "source": [
    "## Задание 3"
   ]
  },
  {
   "cell_type": "markdown",
   "metadata": {},
   "source": [
    "###### Так как в задании 3 используется те же данные что и в 1, задания объеденены в общий файл \n"
   ]
  },
  {
   "cell_type": "markdown",
   "metadata": {},
   "source": [
    "##### Условие:\n",
    "Реализуйте функцию, которая будет автоматически подгружать информацию из дополнительного файла groups_add.csv (заголовки могут отличаться) и на основании дополнительных параметров пересчитывать метрики."
   ]
  },
  {
   "cell_type": "markdown",
   "metadata": {},
   "source": [
    "##### Для начала нужно подумать, что будет представлять из себя файл groups_add.csv?\n",
    "Если он будет полностью повторять файл group_add.csv, то есть состоять из 2х колонок id и grp, то для исследования он будет бесполезным - у нас не будет данных о том, была ли произведена оплата и сколько человек заплатил, ведь во вспомогательных уже существующих таблицах active_studs.csv и checks.csv может не быть данных о новых пользователях "
   ]
  },
  {
   "cell_type": "markdown",
   "metadata": {},
   "source": [
    "##### Какой ожидаемый результат от данной функции?\n",
    "По заданию нам необходимо пересчитать метрики с учетом новых данных  \n",
    "\n",
    "Метрики, которые мы использовали: \n",
    "\n",
    "CR (Conversion Rate) — это коэффициент конверсии, то есть отношение числа пользователей, совершивших целевое действие на сайте, к общему количеству посетителей. Для нас это будет отношением количество пользователей, совершивших покупку. Важный показатель, так как в теории чем он выше, тем проще пользователю совершить полезное действие  \n",
    "\n",
    "ARPU (Average Revenue Per User) — это показатель среднего дохода, который компания получает от одного пользователя за определённый период. Проще говоря, сколько в среднем приносит бизнесу каждый клиент. Для нас это будет сумма rev отношению ко всем активным пользователям  \n",
    "\n",
    "ARPPU (Average Revenue Per Paying User) — средний доход с платящего пользователя. Метрика фокусируется исключительно на клиентах, совершивших покупку. Для нас - тншение суммы rev к числу заплативших активных клиентов\n",
    "\n",
    "Считаю, что для большей наглядности функция должна выводить еще и изначальные данные, так будет проще увидеть разницу\n",
    "\n",
    "Ожидаемый результ: \n",
    "Выведенная таблица с двумя строчками: подсчет метрик для старого датафрейма, подсчет метрик с учетом нового датафрейма. Строчки подписаны, метрики обозначены"
   ]
  },
  {
   "cell_type": "markdown",
   "metadata": {},
   "source": [
    "##### Теперь нужно верхнеуровнево описать будущий алгоритм"
   ]
  },
  {
   "cell_type": "markdown",
   "metadata": {},
   "source": [
    "1. Нам нужно получить на вход 2 сущности: существующий датафрейм и новую таблицу, которую нам отдадут коллеги\n",
    "2. Далее нам нужно сохранить новую таблицу ввиде датафрейма\n",
    "3. Из нового датафрейма берем только активных оплативших пользователей  \n",
    "4. Необходимо создать таблицу, в которую будут передаваться метрики - она будет нашим ожидаемым результатом\n",
    "5. Далее подсчитываем метрики для старого датафрейма. Так как одинаковые метрики нужно посчитаьт дважды, этот шаг логично выделить отлелльной функцией\n",
    "6. Сохраняем получивышиеся метрики в первую строчку датафрема с ожидаемым результатом\n",
    "7. Объеденяем исходный датафрейм и новый\n",
    "8. Счиатем метрики для объеденного датафрейма и сохраняем их в датафрейм ожиджаемого результата"
   ]
  },
  {
   "cell_type": "markdown",
   "metadata": {},
   "source": [
    "##### Как будем тестировать получившуюся функцию?\n",
    "\n",
    "У нас есть рабочий датафрем, из которого мы подсчитывали метрики в задании 1 - active_total  \n",
    "\n",
    "Дополнительно нам нужно сгененрировать таблицу, которая будет имитировтаь присланную. Нам уже дали название group_add.csv используем его\n",
    "\n",
    "Гененрируем таблицу и заполняем ее рандомными данными:  \n"
   ]
  },
  {
   "cell_type": "code",
   "execution_count": 43,
   "metadata": {},
   "outputs": [],
   "source": [
    "data = {\n",
    "    'id': [10000 + i for i in range(5)],\n",
    "    'grp': random.choices(['A', 'B'], k=5),\n",
    "    'activity': random.choices([0, 1], k=5),\n",
    "    'payment': random.choices([0, 1], k=5)\n",
    "}\n",
    "\n",
    "# Сначала генерируем все доходы, затем обнуляем где payment=0\n",
    "data['rev'] = np.round(np.random.uniform(1000, 10000, 5), 2)\n",
    "data['rev'] = np.where(np.array(data['payment']) == 0, 0, data['rev'])\n",
    "\n",
    "df = pd.DataFrame(data)\n",
    "\n",
    "df.to_csv('group_add.csv', index=False)"
   ]
  },
  {
   "cell_type": "markdown",
   "metadata": {},
   "source": [
    "В сгенерированных рандомных данных нам нужно исключить случаи, когда payment=0, а rev!=0 - данных о сумме оплты не должно быть при отсутсвии признака оплаты payment  \n",
    "Дополнительно отредактируем получившуюся таблицу"
   ]
  },
  {
   "cell_type": "code",
   "execution_count": 52,
   "metadata": {
    "scrolled": true
   },
   "outputs": [
    {
     "data": {
      "application/vnd.jupyter.widget-view+json": {
       "model_id": "483c17639cce4a208440f52fbbbe75cf",
       "version_major": 2,
       "version_minor": 0
      },
      "text/plain": [
       "HBox(children=(FloatProgress(value=0.0, max=1000.0), HTML(value='')))"
      ]
     },
     "metadata": {},
     "output_type": "display_data"
    },
    {
     "name": "stdout",
     "output_type": "stream",
     "text": [
      "\n"
     ]
    },
    {
     "data": {
      "image/png": "[encoded data removed]",
      "text/plain": [
       "<Figure size 432x288 with 1 Axes>"
      ]
     },
     "metadata": {
      "needs_background": "light"
     },
     "output_type": "display_data"
    },
    {
     "data": {
      "application/vnd.jupyter.widget-view+json": {
       "model_id": "f0ea6d2c97ee4a5288efd1ee80734cd2",
       "version_major": 2,
       "version_minor": 0
      },
      "text/plain": [
       "HBox(children=(FloatProgress(value=0.0, max=1000.0), HTML(value='')))"
      ]
     },
     "metadata": {},
     "output_type": "display_data"
    },
    {
     "name": "stdout",
     "output_type": "stream",
     "text": [
      "\n"
     ]
    },
    {
     "data": {
      "image/png": "[encoded data removed]",
      "text/plain": [
       "<Figure size 432x288 with 1 Axes>"
      ]
     },
     "metadata": {
      "needs_background": "light"
     },
     "output_type": "display_data"
    },
    {
     "data": {
      "application/vnd.jupyter.widget-view+json": {
       "model_id": "a9a3f2b633f94b10a43cea9f78381af1",
       "version_major": 2,
       "version_minor": 0
      },
      "text/plain": [
       "HBox(children=(FloatProgress(value=0.0, max=1000.0), HTML(value='')))"
      ]
     },
     "metadata": {},
     "output_type": "display_data"
    },
    {
     "name": "stdout",
     "output_type": "stream",
     "text": [
      "\n"
     ]
    },
    {
     "data": {
      "image/png": "[encoded data removed]",
      "text/plain": [
       "<Figure size 432x288 with 1 Axes>"
      ]
     },
     "metadata": {
      "needs_background": "light"
     },
     "output_type": "display_data"
    },
    {
     "name": "stdout",
     "output_type": "stream",
     "text": [
      "        0  grp         id  payment  rev\n",
      "0     NaN    A   581585.0      0.0  0.0\n",
      "1     NaN    A  5723133.0      0.0  0.0\n",
      "2     NaN    B  3276743.0      0.0  0.0\n",
      "3     NaN    A  4238589.0      0.0  0.0\n",
      "4     NaN    B  4475369.0      0.0  0.0\n",
      "..    ...  ...        ...      ...  ...\n",
      "0    True  NaN        NaN      NaN  NaN\n",
      "1    True  NaN        NaN      NaN  NaN\n",
      "2    True  NaN        NaN      NaN  NaN\n",
      "3    True  NaN        NaN      NaN  NaN\n",
      "4   False  NaN        NaN      NaN  NaN\n",
      "\n",
      "[8346 rows x 5 columns]\n"
     ]
    },
    {
     "data": {
      "application/vnd.jupyter.widget-view+json": {
       "model_id": "1ca007b2564e47af82d8858b1e0ab38b",
       "version_major": 2,
       "version_minor": 0
      },
      "text/plain": [
       "HBox(children=(FloatProgress(value=0.0, max=1000.0), HTML(value='')))"
      ]
     },
     "metadata": {},
     "output_type": "display_data"
    },
    {
     "name": "stdout",
     "output_type": "stream",
     "text": [
      "\n"
     ]
    },
    {
     "data": {
      "image/png": "[encoded data removed]",
      "text/plain": [
       "<Figure size 432x288 with 1 Axes>"
      ]
     },
     "metadata": {
      "needs_background": "light"
     },
     "output_type": "display_data"
    },
    {
     "data": {
      "application/vnd.jupyter.widget-view+json": {
       "model_id": "1459aab841e140d7a897d17932a8a458",
       "version_major": 2,
       "version_minor": 0
      },
      "text/plain": [
       "HBox(children=(FloatProgress(value=0.0, max=1000.0), HTML(value='')))"
      ]
     },
     "metadata": {},
     "output_type": "display_data"
    },
    {
     "name": "stdout",
     "output_type": "stream",
     "text": [
      "\n"
     ]
    },
    {
     "data": {
      "image/png": "[encoded data removed]",
      "text/plain": [
       "<Figure size 432x288 with 1 Axes>"
      ]
     },
     "metadata": {
      "needs_background": "light"
     },
     "output_type": "display_data"
    },
    {
     "data": {
      "application/vnd.jupyter.widget-view+json": {
       "model_id": "3e9772ff576440ffae54b73436107807",
       "version_major": 2,
       "version_minor": 0
      },
      "text/plain": [
       "HBox(children=(FloatProgress(value=0.0, max=1000.0), HTML(value='')))"
      ]
     },
     "metadata": {},
     "output_type": "display_data"
    },
    {
     "name": "stdout",
     "output_type": "stream",
     "text": [
      "\n"
     ]
    },
    {
     "data": {
      "image/png": "[encoded data removed]",
      "text/plain": [
       "<Figure size 432x288 with 1 Axes>"
      ]
     },
     "metadata": {
      "needs_background": "light"
     },
     "output_type": "display_data"
    },
    {
     "data": {
      "text/html": [
       "<div>\n",
       "<style scoped>\n",
       "    .dataframe tbody tr th:only-of-type {\n",
       "        vertical-align: middle;\n",
       "    }\n",
       "\n",
       "    .dataframe tbody tr th {\n",
       "        vertical-align: top;\n",
       "    }\n",
       "\n",
       "    .dataframe thead th {\n",
       "        text-align: right;\n",
       "    }\n",
       "</style>\n",
       "<table border=\"1\" class=\"dataframe\">\n",
       "  <thead>\n",
       "    <tr style=\"text-align: right;\">\n",
       "      <th></th>\n",
       "      <th>CR_A</th>\n",
       "      <th>CR_B</th>\n",
       "      <th>CR_p-value</th>\n",
       "      <th>ARPU_A</th>\n",
       "      <th>ARPU_B</th>\n",
       "      <th>ARPU_p-value</th>\n",
       "      <th>ARPPU_A</th>\n",
       "      <th>ARPPU_B</th>\n",
       "      <th>ARPPU_p-value</th>\n",
       "    </tr>\n",
       "  </thead>\n",
       "  <tbody>\n",
       "    <tr>\n",
       "      <th>До объединения</th>\n",
       "      <td>0.050715</td>\n",
       "      <td>0.046156</td>\n",
       "      <td>0.211924</td>\n",
       "      <td>47.347204</td>\n",
       "      <td>58.058798</td>\n",
       "      <td>0.036379</td>\n",
       "      <td>933.589744</td>\n",
       "      <td>1257.878992</td>\n",
       "      <td>0.000001</td>\n",
       "    </tr>\n",
       "    <tr>\n",
       "      <th>После объединения</th>\n",
       "      <td>0.050715</td>\n",
       "      <td>0.046156</td>\n",
       "      <td>0.229511</td>\n",
       "      <td>47.347204</td>\n",
       "      <td>58.058798</td>\n",
       "      <td>0.040282</td>\n",
       "      <td>933.589744</td>\n",
       "      <td>1257.878992</td>\n",
       "      <td>0.000002</td>\n",
       "    </tr>\n",
       "  </tbody>\n",
       "</table>\n",
       "</div>"
      ],
      "text/plain": [
       "                       CR_A      CR_B  CR_p-value     ARPU_A     ARPU_B  \\\n",
       "До объединения     0.050715  0.046156    0.211924  47.347204  58.058798   \n",
       "После объединения  0.050715  0.046156    0.229511  47.347204  58.058798   \n",
       "\n",
       "                   ARPU_p-value     ARPPU_A      ARPPU_B  ARPPU_p-value  \n",
       "До объединения         0.036379  933.589744  1257.878992       0.000001  \n",
       "После объединения      0.040282  933.589744  1257.878992       0.000002  "
      ]
     },
     "execution_count": 52,
     "metadata": {},
     "output_type": "execute_result"
    }
   ],
   "source": [
    "import pandas as pd\n",
    "import numpy as np\n",
    "\n",
    "def get_update(work_df, new_df=\"group_add.csv\"):\n",
    "    # Загружаем дополнительные данные\n",
    "    group_add_df = pd.read_csv(new_df)\n",
    "    group_add_df = (group_add_df['activity'] == 1) \n",
    "    \n",
    "    # Создаем DataFrame для результатов\n",
    "    columns = ['CR_A', 'CR_B', 'CR_p-value',\n",
    "               'ARPU_A', 'ARPU_B', 'ARPU_p-value',\n",
    "               'ARPPU_A', 'ARPPU_B', 'ARPPU_p-value']\n",
    "    df_ab = pd.DataFrame(columns=columns)\n",
    "    \n",
    "    # Функция расчета метрик\n",
    "    def calc_metrics(df):\n",
    "        # Фильтрация данных\n",
    "        a_mask = df['grp'] == 'A'\n",
    "        b_mask = df['grp'] == 'B'\n",
    "        a_paid_mask = a_mask & (df['rev'] > 0)\n",
    "        b_paid_mask = b_mask & (df['rev'] > 0)\n",
    "        \n",
    "        # Расчет метрик\n",
    "        return [\n",
    "            df.loc[a_mask, 'payment'].mean(),  # CR_A\n",
    "            df.loc[b_mask, 'payment'].mean(),  # CR_B\n",
    "            bootstrap_test(df.loc[a_mask, 'payment'], \n",
    "                         df.loc[b_mask, 'payment'])[\"p_value\"],  # CR_p-value\n",
    "            np.mean(df.loc[a_mask, 'rev']),  # ARPU_A\n",
    "            np.mean(df.loc[b_mask, 'rev']),  # ARPU_B\n",
    "            bootstrap_test(df.loc[a_mask, 'rev'],\n",
    "                         df.loc[b_mask, 'rev'])[\"p_value\"],  # ARPU_p-value\n",
    "            np.mean(df.loc[a_paid_mask, 'rev']),  # ARPPU_A\n",
    "            np.mean(df.loc[b_paid_mask, 'rev']),  # ARPPU_B\n",
    "            bootstrap_test(df.loc[a_paid_mask, 'rev'],\n",
    "                         df.loc[b_paid_mask, 'rev'])[\"p_value\"]  # ARPPU_p-value\n",
    "        ]\n",
    "    \n",
    "    # 1. Расчет для исходных данных\n",
    "    df_ab.loc['До объединения'] = calc_metrics(work_df)\n",
    "    \n",
    "    # 2. Объединение с новыми данными\n",
    "    work_df =  pd.concat([work_df, group_add_df]) \n",
    "    print(work_df)\n",
    "    \n",
    "    # 3. Расчет для объединенных данных\n",
    "    df_ab.loc['После объединения'] = calc_metrics(work_df)\n",
    "    \n",
    "    return df_ab\n",
    "metrix = get_update(active_total, 'group_add.csv')\n",
    "metrix"
   ]
  },
  {
   "cell_type": "markdown",
   "metadata": {},
   "source": [
    "#### Задание 2 - отрисовка графика \n",
    "\n"
   ]
  },
  {
   "cell_type": "code",
   "execution_count": 53,
   "metadata": {},
   "outputs": [],
   "source": [
    "import matplotlib.pyplot as plt\n",
    "import seaborn as sns\n",
    "\n",
    "def visualize_metrics(metrics_df):\n",
    "    \"\"\"\n",
    "    Визуализирует результаты A/B теста из DataFrame, возвращенного функцией get_update()\n",
    "    \n",
    "    Параметры:\n",
    "        metrics_df (pd.DataFrame): DataFrame с метриками, содержащий строки \n",
    "                                 'До объединения' и 'После объединения'\n",
    "    \"\"\"\n",
    "    # Проверка данных\n",
    "    if not all(x in metrics_df.index for x in ['До объединения', 'После объединения']):\n",
    "        raise ValueError(\"DataFrame должен содержать строки 'До объединения' и 'После объединения'\")\n",
    "    \n",
    "    # Настройка стиля\n",
    "    plt.style.use('seaborn')\n",
    "    sns.set_palette(\"husl\")\n",
    "    \n",
    "    # Создаем фигуру с 3 подграфиками\n",
    "    fig, axes = plt.subplots(3, 1, figsize=(12, 15))\n",
    "    fig.suptitle('Сравнение метрик A/B теста до и после объединения данных', fontsize=14)\n",
    "    \n",
    "    # 1. График конверсии (CR)\n",
    "    cr_data = metrics_df[['CR_A', 'CR_B']].stack().reset_index()\n",
    "    cr_data.columns = ['Этап', 'Группа', 'Значение']\n",
    "    sns.barplot(x='Этап', y='Значение', hue='Группа', data=cr_data, ax=axes[0])\n",
    "    axes[0].set_title('Конверсия (CR)')\n",
    "    axes[0].set_ylabel('Доля конверсии')\n",
    "    axes[0].set_ylim(0, 1)\n",
    "    \n",
    "    # Добавляем p-value\n",
    "    for i, stage in enumerate(['До объединения', 'После объединения']):\n",
    "        p_val = metrics_df.loc[stage, 'CR_p-value']\n",
    "        axes[0].text(i, 0.9, f'p={p_val:.3f}', ha='center', color='red')\n",
    "    \n",
    "    # 2. График ARPU\n",
    "    arpu_data = metrics_df[['ARPU_A', 'ARPU_B']].stack().reset_index()\n",
    "    arpu_data.columns = ['Этап', 'Группа', 'Значение']\n",
    "    sns.barplot(x='Этап', y='Значение', hue='Группа', data=arpu_data, ax=axes[1])\n",
    "    axes[1].set_title('Средний доход на пользователя (ARPU)')\n",
    "    axes[1].set_ylabel('Доход')\n",
    "    \n",
    "    # Добавляем p-value\n",
    "    for i, stage in enumerate(['До объединения', 'После объединения']):\n",
    "        p_val = metrics_df.loc[stage, 'ARPU_p-value']\n",
    "        axes[1].text(i, arpu_data['Значение'].max()*0.9, \n",
    "                    f'p={p_val:.3f}', ha='center', color='red')\n",
    "    \n",
    "    # 3. График ARPPU\n",
    "    arppu_data = metrics_df[['ARPPU_A', 'ARPPU_B']].stack().reset_index()\n",
    "    arppu_data.columns = ['Этап', 'Группа', 'Значение']\n",
    "    sns.barplot(x='Этап', y='Значение', hue='Группа', data=arppu_data, ax=axes[2])\n",
    "    axes[2].set_title('Средний доход на платящего пользователя (ARPPU)')\n",
    "    axes[2].set_ylabel('Доход')\n",
    "    \n",
    "    # Добавляем p-value\n",
    "    for i, stage in enumerate(['До объединения', 'После объединения']):\n",
    "        p_val = metrics_df.loc[stage, 'ARPPU_p-value']\n",
    "        axes[2].text(i, arppu_data['Значение'].max()*0.9, \n",
    "                    f'p={p_val:.3f}', ha='center', color='red')\n",
    "    \n",
    "    # Общие настройки\n",
    "    for ax in axes:\n",
    "        ax.grid(axis='y', linestyle='--', alpha=0.7)\n",
    "        ax.legend(title='Группа')\n",
    "    \n",
    "    plt.tight_layout()\n",
    "    plt.show()"
   ]
  },
  {
   "cell_type": "code",
   "execution_count": 120,
   "metadata": {},
   "outputs": [
    {
     "data": {
      "image/png": "[encoded data removed]",
      "text/plain": [
       "<Figure size 864x1080 with 3 Axes>"
      ]
     },
     "metadata": {},
     "output_type": "display_data"
    }
   ],
   "source": [
    "visualize_metrics(metrix)"
   ]
  },
  {
   "cell_type": "code",
   "execution_count": null,
   "metadata": {},
   "outputs": [],
   "source": []
  },
  {
   "cell_type": "code",
   "execution_count": null,
   "metadata": {},
   "outputs": [],
   "source": []
  }
 ],
 "metadata": {
  "kernelspec": {
   "display_name": "Python 3",
   "language": "python",
   "name": "python3"
  },
  "language_info": {
   "codemirror_mode": {
    "name": "ipython",
    "version": 3
   },
   "file_extension": ".py",
   "mimetype": "text/x-python",
   "name": "python",
   "nbconvert_exporter": "python",
   "pygments_lexer": "ipython3",
   "version": "3.7.3"
  }
 },
 "nbformat": 4,
 "nbformat_minor": 4
}
